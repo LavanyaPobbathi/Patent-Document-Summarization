{
  "nbformat": 4,
  "nbformat_minor": 0,
  "metadata": {
    "colab": {
      "provenance": []
    },
    "kernelspec": {
      "name": "python3",
      "display_name": "Python 3"
    },
    "language_info": {
      "name": "python"
    }
  },
  "cells": [
    {
      "cell_type": "code",
      "execution_count": 1,
      "metadata": {
        "colab": {
          "base_uri": "https://localhost:8080/"
        },
        "id": "dfWJ3dLqhLMf",
        "outputId": "427402e6-7a49-43cc-b93f-f5e40af5215c"
      },
      "outputs": [
        {
          "output_type": "stream",
          "name": "stdout",
          "text": [
            "Looking in indexes: https://pypi.org/simple, https://us-python.pkg.dev/colab-wheels/public/simple/\n",
            "Collecting Rouge\n",
            "  Downloading rouge-1.0.1-py3-none-any.whl (13 kB)\n",
            "Requirement already satisfied: six in /usr/local/lib/python3.10/dist-packages (from Rouge) (1.16.0)\n",
            "Installing collected packages: Rouge\n",
            "Successfully installed Rouge-1.0.1\n"
          ]
        }
      ],
      "source": [
        "!pip install Rouge"
      ]
    },
    {
      "cell_type": "code",
      "source": [
        "####  Abstract Rogue Score\n",
        "from rouge import Rouge\n",
        "import pandas as pd\n",
        "from tqdm import tqdm\n",
        "import torch\n",
        "import re\n",
        "\n",
        "# Load the DataFrame from the Excel file\n",
        "input_file = \"Abstract_Summary_t5_base_score.xlsx\"\n",
        "df = pd.read_excel(input_file)\n",
        "\n",
        "# Create a Rouge object\n",
        "rouge = Rouge()\n",
        "\n",
        "# Define lists to store the overlap, coherence, and informativeness scores\n",
        "overlap_scores = []\n",
        "coherence_scores = []\n",
        "informativeness_scores = []\n",
        "\n",
        "# Set device to GPU if available\n",
        "device = torch.device(\"cuda\" if torch.cuda.is_available() else \"cpu\")\n",
        "\n",
        "# Iterate over the rows in the DataFrame with a progress bar\n",
        "for index, row in tqdm(df.iterrows(), total=len(df), desc=\"Calculating Scores\"):\n",
        "    # Get the original text and the generated summary\n",
        "    abstract = row['Abstract']\n",
        "\n",
        "    # Clean the abstract and claims text\n",
        "    abstract = re.sub(r'[^\\x00-\\x7F]+', '', str(abstract))\n",
        "\n",
        "    # Combine the cleaned abstract and claims\n",
        "    original_text = abstract\n",
        "    generated_summary = str(row['Abstract_Summary_t5_base'])\n",
        "\n",
        "    # Calculate ROUGE scores\n",
        "    scores = rouge.get_scores(generated_summary, original_text)\n",
        "\n",
        "    # Extract the relevant scores\n",
        "    overlap_score = scores[0]['rouge-1']['f']\n",
        "    coherence_score = scores[0]['rouge-2']['f']\n",
        "    informativeness_score = scores[0]['rouge-l']['f']\n",
        "\n",
        "    # Append the scores to the respective lists\n",
        "    overlap_scores.append(overlap_score)\n",
        "    coherence_scores.append(coherence_score)\n",
        "    informativeness_scores.append(informativeness_score)\n",
        "\n",
        "# Add the scores to the DataFrame\n",
        "df['Overlap_Score'] = overlap_scores\n",
        "df['Coherence_Score'] = coherence_scores\n",
        "df['Informativeness_Score'] = informativeness_scores\n",
        "\n",
        "# Save the updated DataFrame to a new Excel file\n",
        "output_file = \"Summary_Scores_hupd_Rouge_score_t5_base_abstract.xlsx\"\n",
        "df.to_excel(output_file, index=False)\n",
        "\n",
        "# Print the average scores\n",
        "print(\"Average Overlap Score:\", sum(overlap_scores) / len(overlap_scores))\n",
        "print(\"Average Coherence Score:\", sum(coherence_scores) / len(coherence_scores))\n",
        "print(\"Average Informativeness Score:\", sum(informativeness_scores) / len(informativeness_scores))"
      ],
      "metadata": {
        "colab": {
          "base_uri": "https://localhost:8080/"
        },
        "id": "oBNrntO5hLu0",
        "outputId": "11256e23-e1e1-41f5-caea-e5897a90e2ec"
      },
      "execution_count": 2,
      "outputs": [
        {
          "output_type": "stream",
          "name": "stderr",
          "text": [
            "Calculating Scores: 100%|██████████| 50/50 [00:00<00:00, 326.59it/s]"
          ]
        },
        {
          "output_type": "stream",
          "name": "stdout",
          "text": [
            "Average Overlap Score: 0.6276813014119087\n",
            "Average Coherence Score: 0.49316944383850236\n",
            "Average Informativeness Score: 0.6245934196344024\n"
          ]
        },
        {
          "output_type": "stream",
          "name": "stderr",
          "text": [
            "\n"
          ]
        }
      ]
    },
    {
      "cell_type": "code",
      "source": [
        "#### Claims Rogue Score\n",
        "from rouge import Rouge\n",
        "import pandas as pd\n",
        "from tqdm import tqdm\n",
        "import torch\n",
        "import re\n",
        "\n",
        "# Load the DataFrame from the Excel file\n",
        "input_file = \"Claims_Summary_t5_base_score.xlsx\"\n",
        "df = pd.read_excel(input_file)\n",
        "\n",
        "# Create a Rouge object\n",
        "rouge = Rouge()\n",
        "\n",
        "# Define lists to store the overlap, coherence, and informativeness scores\n",
        "overlap_scores = []\n",
        "coherence_scores = []\n",
        "informativeness_scores = []\n",
        "\n",
        "# Set device to GPU if available\n",
        "device = torch.device(\"cuda\" if torch.cuda.is_available() else \"cpu\")\n",
        "\n",
        "# Iterate over the rows in the DataFrame with a progress bar\n",
        "for index, row in tqdm(df.iterrows(), total=len(df), desc=\"Calculating Scores\"):\n",
        "    # Get the original text and the generated summary\n",
        "    claim = row['Claims']\n",
        "\n",
        "    # Clean the abstract and claims text\n",
        "    claims = re.sub(r'[^\\x00-\\x7F]+', '', str(claim))\n",
        "\n",
        "    # Combine the cleaned abstract and claims\n",
        "    original_text = claims\n",
        "    generated_summary = str(row['Claims_Summary_t5_base'])\n",
        "\n",
        "    # Calculate ROUGE scores\n",
        "    scores = rouge.get_scores(generated_summary, original_text)\n",
        "\n",
        "    # Extract the relevant scores\n",
        "    overlap_score = scores[0]['rouge-1']['f']\n",
        "    coherence_score = scores[0]['rouge-2']['f']\n",
        "    informativeness_score = scores[0]['rouge-l']['f']\n",
        "\n",
        "    # Append the scores to the respective lists\n",
        "    overlap_scores.append(overlap_score)\n",
        "    coherence_scores.append(coherence_score)\n",
        "    informativeness_scores.append(informativeness_score)\n",
        "\n",
        "# Add the scores to the DataFrame\n",
        "df['Overlap_Score'] = overlap_scores\n",
        "df['Coherence_Score'] = coherence_scores\n",
        "df['Informativeness_Score'] = informativeness_scores\n",
        "\n",
        "# Save the updated DataFrame to a new Excel file\n",
        "output_file = \"Summary_Scores_hupd_Rouge_score_t5_base_Claims.xlsx\"\n",
        "df.to_excel(output_file, index=False)\n",
        "\n",
        "# Print the average scores\n",
        "print(\"Average Overlap Score:\", sum(overlap_scores) / len(overlap_scores))\n",
        "print(\"Average Coherence Score:\", sum(coherence_scores) / len(coherence_scores))\n",
        "print(\"Average Informativeness Score:\", sum(informativeness_scores) / len(informativeness_scores))"
      ],
      "metadata": {
        "colab": {
          "base_uri": "https://localhost:8080/"
        },
        "id": "1ZXm3LSRijWg",
        "outputId": "c56429e8-182a-486d-af6b-6bb4ba009c9e"
      },
      "execution_count": 3,
      "outputs": [
        {
          "output_type": "stream",
          "name": "stderr",
          "text": [
            "Calculating Scores: 100%|██████████| 50/50 [00:01<00:00, 27.96it/s]"
          ]
        },
        {
          "output_type": "stream",
          "name": "stdout",
          "text": [
            "Average Overlap Score: 0.27675187495091413\n",
            "Average Coherence Score: 0.1537218004347797\n",
            "Average Informativeness Score: 0.27372096911414195\n"
          ]
        },
        {
          "output_type": "stream",
          "name": "stderr",
          "text": [
            "\n"
          ]
        }
      ]
    },
    {
      "cell_type": "code",
      "source": [
        "#### Combined summary Rogue Score\n",
        "from rouge import Rouge\n",
        "import pandas as pd\n",
        "from tqdm import tqdm\n",
        "import torch\n",
        "import re\n",
        "\n",
        "# Load the DataFrame from the Excel file\n",
        "input_file = \"Combined_Google_patent_Summary_t5_base_score.xlsx\"\n",
        "df = pd.read_excel(input_file)\n",
        "\n",
        "# Create a Rouge object\n",
        "rouge = Rouge()\n",
        "\n",
        "# Define lists to store the overlap, coherence, and informativeness scores\n",
        "overlap_scores = []\n",
        "coherence_scores = []\n",
        "informativeness_scores = []\n",
        "\n",
        "# Set device to GPU if available\n",
        "device = torch.device(\"cuda\" if torch.cuda.is_available() else \"cpu\")\n",
        "\n",
        "# Iterate over the rows in the DataFrame with a progress bar\n",
        "for index, row in tqdm(df.iterrows(), total=len(df), desc=\"Calculating Scores\"):\n",
        "    # Get the original text and the generated summary\n",
        "    abstract = row['Abstract_Summary_t5_base']\n",
        "    claim = row['Claims_Summary_t5_base']\n",
        "\n",
        "    # Clean the abstract and claims text\n",
        "    abstract = re.sub(r'[^\\x00-\\x7F]+', '', str(abstract))\n",
        "    claims = re.sub(r'[^\\x00-\\x7F]+', '', str(claim))\n",
        "\n",
        "    # Combine the cleaned abstract and claims\n",
        "    original_text = abstract+' '+claims\n",
        "    generated_summary = str(row['Combined_Summary'])\n",
        "\n",
        "    # Calculate ROUGE scores\n",
        "    scores = rouge.get_scores(generated_summary, original_text)\n",
        "\n",
        "    # Extract the relevant scores\n",
        "    overlap_score = scores[0]['rouge-1']['f']\n",
        "    coherence_score = scores[0]['rouge-2']['f']\n",
        "    informativeness_score = scores[0]['rouge-l']['f']\n",
        "\n",
        "    # Append the scores to the respective lists\n",
        "    overlap_scores.append(overlap_score)\n",
        "    coherence_scores.append(coherence_score)\n",
        "    informativeness_scores.append(informativeness_score)\n",
        "\n",
        "# Add the scores to the DataFrame\n",
        "df['Overlap_Score'] = overlap_scores\n",
        "df['Coherence_Score'] = coherence_scores\n",
        "df['Informativeness_Score'] = informativeness_scores\n",
        "\n",
        "# Save the updated DataFrame to a new Excel file\n",
        "output_file = \"Summary_Scores_hupd_Rouge_score_t5_base_Combined_Summary.xlsx\"\n",
        "df.to_excel(output_file, index=False)\n",
        "\n",
        "# Print the average scores\n",
        "print(\"Average Overlap Score:\", sum(overlap_scores) / len(overlap_scores))\n",
        "print(\"Average Coherence Score:\", sum(coherence_scores) / len(coherence_scores))\n",
        "print(\"Average Informativeness Score:\", sum(informativeness_scores) / len(informativeness_scores))"
      ],
      "metadata": {
        "colab": {
          "base_uri": "https://localhost:8080/"
        },
        "id": "GWquIMwHi1Oz",
        "outputId": "36d14efd-62ac-4a20-c0fa-70a268c41644"
      },
      "execution_count": 4,
      "outputs": [
        {
          "output_type": "stream",
          "name": "stderr",
          "text": [
            "Calculating Scores: 100%|██████████| 50/50 [00:00<00:00, 289.66it/s]\n"
          ]
        },
        {
          "output_type": "stream",
          "name": "stdout",
          "text": [
            "Average Overlap Score: 0.7292788693809905\n",
            "Average Coherence Score: 0.6356334778217757\n",
            "Average Informativeness Score: 0.7292788693809905\n"
          ]
        }
      ]
    }
  ]
}