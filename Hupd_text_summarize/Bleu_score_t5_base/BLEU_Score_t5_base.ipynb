{
  "nbformat": 4,
  "nbformat_minor": 0,
  "metadata": {
    "colab": {
      "provenance": []
    },
    "kernelspec": {
      "name": "python3",
      "display_name": "Python 3"
    },
    "language_info": {
      "name": "python"
    }
  },
  "cells": [
    {
      "cell_type": "code",
      "execution_count": 4,
      "metadata": {
        "colab": {
          "base_uri": "https://localhost:8080/"
        },
        "id": "jdGMVf1IdeAe",
        "outputId": "09181115-b1cc-4ff5-ee95-a72979213744"
      },
      "outputs": [
        {
          "output_type": "stream",
          "name": "stderr",
          "text": [
            "Calculating Scores: 100%|██████████| 50/50 [00:00<00:00, 3082.10it/s]"
          ]
        },
        {
          "output_type": "stream",
          "name": "stdout",
          "text": [
            "\n",
            "Average BLEU Score: 0.15841731489346159\n"
          ]
        },
        {
          "output_type": "stream",
          "name": "stderr",
          "text": [
            "\n"
          ]
        }
      ],
      "source": [
        "#abstract bleu score\n",
        "\n",
        "from nltk.translate.bleu_score import sentence_bleu, corpus_bleu\n",
        "import pandas as pd\n",
        "from tqdm import tqdm\n",
        "import re\n",
        "\n",
        "# Load the DataFrame from the Excel file\n",
        "input_file = \"Abstract_Summary_t5_base_score.xlsx\"\n",
        "df = pd.read_excel(input_file)\n",
        "\n",
        "# Define lists to store the scores\n",
        "bleu_scores = []\n",
        "fluency_scores = []\n",
        "accuracy_scores = []\n",
        "readability_scores = []\n",
        "relevance_scores = []\n",
        "novelty_scores = []\n",
        "style_scores = []\n",
        "\n",
        "# Iterate over the rows in the DataFrame with a progress bar\n",
        "for index, row in tqdm(df.iterrows(), total=len(df), desc=\"Calculating Scores\"):\n",
        "    # Get the original text and the generated summary\n",
        "    abstract = row['Abstract']\n",
        "    #claims = row['Claims']\n",
        "\n",
        "    # Clean the abstract and claims text\n",
        "    abstract = re.sub(r'[^\\x00-\\x7F]+', '', str(abstract))\n",
        "    #claims = re.sub(r'[^\\x00-\\x7F]+', '', str(claims))\n",
        "\n",
        "    # Combine the cleaned abstract and claims\n",
        "    original_text = abstract\n",
        "    generated_summary = str(row['Abstract_Summary_t5_base'])\n",
        "\n",
        "    # Calculate BLEU score\n",
        "    reference = [original_text.split()]\n",
        "    candidate = generated_summary.split()\n",
        "    bleu_score = sentence_bleu(reference, candidate)\n",
        "\n",
        "    # Append the BLEU score\n",
        "    bleu_scores.append(bleu_score)\n",
        "\n",
        "# Add the scores to the DataFrame\n",
        "df['BLEU_Score'] = bleu_scores\n",
        "\n",
        "# Save the updated DataFrame to a new Excel file\n",
        "output_file = \"Summary_Scores_t5_base_Bleu_score_abstract.xlsx\"\n",
        "df.to_excel(output_file, index=False)\n",
        "\n",
        "# Print the average scores\n",
        "print(\"\\nAverage BLEU Score:\", sum(bleu_scores) / len(bleu_scores))\n"
      ]
    },
    {
      "cell_type": "code",
      "source": [
        "#claims bleu score\n",
        "\n",
        "from nltk.translate.bleu_score import sentence_bleu, corpus_bleu\n",
        "import pandas as pd\n",
        "from tqdm import tqdm\n",
        "import re\n",
        "\n",
        "# Load the DataFrame from the Excel file\n",
        "input_file = \"Claims_Summary_t5_base_score.xlsx\"\n",
        "df = pd.read_excel(input_file)\n",
        "\n",
        "# Define lists to store the scores\n",
        "bleu_scores = []\n",
        "fluency_scores = []\n",
        "accuracy_scores = []\n",
        "readability_scores = []\n",
        "relevance_scores = []\n",
        "novelty_scores = []\n",
        "style_scores = []\n",
        "\n",
        "# Iterate over the rows in the DataFrame with a progress bar\n",
        "for index, row in tqdm(df.iterrows(), total=len(df), desc=\"Calculating Scores\"):\n",
        "    # Get the original text and the generated summary\n",
        "    #abstract = row['Abstract']\n",
        "    claims = row['Claims']\n",
        "\n",
        "    # Clean the abstract and claims text\n",
        "    #abstract = re.sub(r'[^\\x00-\\x7F]+', '', str(abstract))\n",
        "    claims = re.sub(r'[^\\x00-\\x7F]+', '', str(claims))\n",
        "\n",
        "    # Combine the cleaned abstract and claims\n",
        "    original_text = claims\n",
        "    generated_summary = str(row['Claims_Summary_t5_base'])\n",
        "\n",
        "    # Calculate BLEU score\n",
        "    reference = [original_text.split()]\n",
        "    candidate = generated_summary.split()\n",
        "    bleu_score = sentence_bleu(reference, candidate)\n",
        "\n",
        "    # Append the BLEU score\n",
        "    bleu_scores.append(bleu_score)\n",
        "\n",
        "# Add the scores to the DataFrame\n",
        "df['BLEU_Score'] = bleu_scores\n",
        "\n",
        "# Save the updated DataFrame to a new Excel file\n",
        "output_file = \"Summary_Scores_t5_base_Bleu_score_claims.xlsx\"\n",
        "df.to_excel(output_file, index=False)\n",
        "\n",
        "# Print the average scores\n",
        "print(\"\\nAverage BLEU Score:\", sum(bleu_scores) / len(bleu_scores))\n"
      ],
      "metadata": {
        "colab": {
          "base_uri": "https://localhost:8080/"
        },
        "id": "hc0F5YaRn-Un",
        "outputId": "c3fcefbc-c8e6-41c1-94ec-bbe162efddf5"
      },
      "execution_count": 5,
      "outputs": [
        {
          "output_type": "stream",
          "name": "stderr",
          "text": [
            "Calculating Scores: 100%|██████████| 50/50 [00:00<00:00, 472.36it/s]"
          ]
        },
        {
          "output_type": "stream",
          "name": "stdout",
          "text": [
            "\n",
            "Average BLEU Score: 2.4967308022587477e-06\n"
          ]
        },
        {
          "output_type": "stream",
          "name": "stderr",
          "text": [
            "\n"
          ]
        }
      ]
    },
    {
      "cell_type": "code",
      "source": [
        "#combined bleu score\n",
        "\n",
        "from nltk.translate.bleu_score import sentence_bleu, corpus_bleu\n",
        "import pandas as pd\n",
        "from tqdm import tqdm\n",
        "import re\n",
        "\n",
        "# Load the DataFrame from the Excel file\n",
        "input_file = \"Combined_Google_patent_Summary_t5_base_score.xlsx\"\n",
        "df = pd.read_excel(input_file)\n",
        "\n",
        "# Define lists to store the scores\n",
        "bleu_scores = []\n",
        "fluency_scores = []\n",
        "accuracy_scores = []\n",
        "readability_scores = []\n",
        "relevance_scores = []\n",
        "novelty_scores = []\n",
        "style_scores = []\n",
        "\n",
        "# Iterate over the rows in the DataFrame with a progress bar\n",
        "for index, row in tqdm(df.iterrows(), total=len(df), desc=\"Calculating Scores\"):\n",
        "    # Get the original text and the generated summary\n",
        "    abstract = row['Abstract_Summary_t5_base']\n",
        "    claims = row['Claims_Summary_t5_base']\n",
        "\n",
        "    # Clean the abstract and claims text\n",
        "    abstract = re.sub(r'[^\\x00-\\x7F]+', '', str(abstract))\n",
        "    claims = re.sub(r'[^\\x00-\\x7F]+', '', str(claims))\n",
        "\n",
        "    # Combine the cleaned abstract and claims\n",
        "    original_text = abstract+' '+claims\n",
        "    generated_summary = str(row['Combined_Summary'])\n",
        "\n",
        "    # Calculate BLEU score\n",
        "    reference = [original_text.split()]\n",
        "    candidate = generated_summary.split()\n",
        "    bleu_score = sentence_bleu(reference, candidate)\n",
        "\n",
        "    # Append the BLEU score\n",
        "    bleu_scores.append(bleu_score)\n",
        "\n",
        "# Add the scores to the DataFrame\n",
        "df['BLEU_Score'] = bleu_scores\n",
        "\n",
        "# Save the updated DataFrame to a new Excel file\n",
        "output_file = \"Summary_Scores_t5_base_Bleu_score_combined.xlsx\"\n",
        "df.to_excel(output_file, index=False)\n",
        "\n",
        "# Print the average scores\n",
        "print(\"\\nAverage BLEU Score:\", sum(bleu_scores) / len(bleu_scores))\n"
      ],
      "metadata": {
        "colab": {
          "base_uri": "https://localhost:8080/"
        },
        "id": "sdL6cwc-oZaq",
        "outputId": "88b5b74e-b44d-4ac8-caa4-f5e2e7189a8f"
      },
      "execution_count": 6,
      "outputs": [
        {
          "output_type": "stream",
          "name": "stderr",
          "text": [
            "Calculating Scores: 100%|██████████| 50/50 [00:00<00:00, 2812.02it/s]"
          ]
        },
        {
          "output_type": "stream",
          "name": "stdout",
          "text": [
            "\n",
            "Average BLEU Score: 0.2522667522402684\n"
          ]
        },
        {
          "output_type": "stream",
          "name": "stderr",
          "text": [
            "\n"
          ]
        }
      ]
    },
    {
      "cell_type": "code",
      "source": [],
      "metadata": {
        "id": "1JdAO1zAg_Qs"
      },
      "execution_count": null,
      "outputs": []
    }
  ]
}