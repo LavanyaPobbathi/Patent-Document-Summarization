{
 "cells": [
  {
   "cell_type": "code",
   "execution_count": 3,
   "id": "61991ed3",
   "metadata": {},
   "outputs": [
    {
     "name": "stderr",
     "output_type": "stream",
     "text": [
      "Calculating Scores: 100%|██████████████████████████████████████████████████████████████████████████████████████████████████████████| 1630/1630 [00:01<00:00, 952.34it/s]\n"
     ]
    },
    {
     "name": "stdout",
     "output_type": "stream",
     "text": [
      "Average N-gram Score: 70.64294478527607\n"
     ]
    }
   ],
   "source": [
    "import pandas as pd\n",
    "from tqdm import tqdm\n",
    "import re\n",
    "from sklearn.feature_extraction.text import CountVectorizer\n",
    "import numpy as np\n",
    "\n",
    "# Load the DataFrame from the Excel file\n",
    "input_file = \"GPT3.5_All_Summaries_Mergedd.xlsx\"\n",
    "df = pd.read_excel(input_file)\n",
    "\n",
    "# Define a list to store the N-gram scores\n",
    "ngram_scores = []\n",
    "\n",
    "# Define a function to compute N-gram overlap\n",
    "def ngram_overlap(text1, text2, n=2):\n",
    "    vectorizer = CountVectorizer(analyzer='word', ngram_range=(n, n))\n",
    "    ngram_matrix = vectorizer.fit_transform([text1, text2])\n",
    "    overlap = np.dot(ngram_matrix[0].toarray(), ngram_matrix[1].toarray().T)\n",
    "    return overlap[0, 0]\n",
    "\n",
    "# Iterate over the rows in the DataFrame with a progress bar\n",
    "for index, row in tqdm(df.iterrows(), total=len(df), desc=\"Calculating Scores\"):\n",
    "    # Get the original text and the generated summary\n",
    "    abstract = row['Abstract']\n",
    "\n",
    "    # Clean the abstract\n",
    "    abstract = re.sub(r'[^\\x00-\\x7F]+', '', str(abstract))\n",
    "\n",
    "    # Combine the cleaned abstract\n",
    "    original_text = abstract\n",
    "    generated_summary = str(row['Abstract Summary'])\n",
    "\n",
    "    # Calculate N-gram overlap (using bi-grams)\n",
    "    ngram_score = ngram_overlap(generated_summary, original_text, 2)\n",
    "\n",
    "    # Append the score to the list\n",
    "    ngram_scores.append(ngram_score)\n",
    "\n",
    "# Add the scores to the DataFrame\n",
    "df['N-gram_Score'] = ngram_scores\n",
    "\n",
    "# Save the updated DataFrame to a new Excel file\n",
    "output_file = \"Summary_Scores_Ngram_abstract_gpt.xlsx\"\n",
    "df.to_excel(output_file, index=False)\n",
    "\n",
    "# Print the average score\n",
    "print(\"Average N-gram Score:\", sum(ngram_scores) / len(ngram_scores))\n"
   ]
  },
  {
   "cell_type": "code",
   "execution_count": 4,
   "id": "bb9718d8",
   "metadata": {},
   "outputs": [
    {
     "name": "stderr",
     "output_type": "stream",
     "text": [
      "Calculating Scores: 100%|██████████████████████████████████████████████████████████████████████████████████████████████████████████| 1630/1630 [00:04<00:00, 362.68it/s]\n"
     ]
    },
    {
     "name": "stdout",
     "output_type": "stream",
     "text": [
      "Average N-gram Score: 2998.90245398773\n"
     ]
    }
   ],
   "source": [
    "import pandas as pd\n",
    "from tqdm import tqdm\n",
    "import re\n",
    "from sklearn.feature_extraction.text import CountVectorizer\n",
    "import numpy as np\n",
    "\n",
    "# Load the DataFrame from the Excel file\n",
    "input_file = \"GPT3.5_All_Summaries_Mergedd.xlsx\"\n",
    "df = pd.read_excel(input_file)\n",
    "\n",
    "# Define a list to store the N-gram scores\n",
    "ngram_scores = []\n",
    "\n",
    "# Define a function to compute N-gram overlap\n",
    "def ngram_overlap(text1, text2, n=2):\n",
    "    vectorizer = CountVectorizer(analyzer='word', ngram_range=(n, n))\n",
    "    ngram_matrix = vectorizer.fit_transform([text1, text2])\n",
    "    overlap = np.dot(ngram_matrix[0].toarray(), ngram_matrix[1].toarray().T)\n",
    "    return overlap[0, 0]\n",
    "\n",
    "# Iterate over the rows in the DataFrame with a progress bar\n",
    "for index, row in tqdm(df.iterrows(), total=len(df), desc=\"Calculating Scores\"):\n",
    "    # Get the original text and the generated summary\n",
    "    claims = row['Claims']\n",
    "\n",
    "    # Clean the abstract\n",
    "    claims = re.sub(r'[^\\x00-\\x7F]+', '', str(claims))\n",
    "\n",
    "    # Combine the cleaned abstract\n",
    "    original_text = claims\n",
    "    generated_summary = str(row['Claims Summary'])\n",
    "\n",
    "    # Calculate N-gram overlap (using bi-grams)\n",
    "    ngram_score = ngram_overlap(generated_summary, original_text, 2)\n",
    "\n",
    "    # Append the score to the list\n",
    "    ngram_scores.append(ngram_score)\n",
    "\n",
    "# Add the scores to the DataFrame\n",
    "df['N-gram_Score'] = ngram_scores\n",
    "\n",
    "# Save the updated DataFrame to a new Excel file\n",
    "output_file = \"Summary_Scores_Ngram_claims_gpt.xlsx\"\n",
    "df.to_excel(output_file, index=False)\n",
    "\n",
    "# Print the average score\n",
    "print(\"Average N-gram Score:\", sum(ngram_scores) / len(ngram_scores))\n"
   ]
  },
  {
   "cell_type": "code",
   "execution_count": 5,
   "id": "4e869328",
   "metadata": {},
   "outputs": [
    {
     "name": "stderr",
     "output_type": "stream",
     "text": [
      "Calculating Scores: 100%|██████████████████████████████████████████████████████████████████████████████████████████████████████████| 1630/1630 [00:02<00:00, 607.32it/s]\n"
     ]
    },
    {
     "name": "stdout",
     "output_type": "stream",
     "text": [
      "Average N-gram Score: 309.44233128834355\n"
     ]
    }
   ],
   "source": [
    "import pandas as pd\n",
    "from tqdm import tqdm\n",
    "import re\n",
    "from sklearn.feature_extraction.text import CountVectorizer\n",
    "import numpy as np\n",
    "\n",
    "# Load the DataFrame from the Excel file\n",
    "input_file = \"GPT3.5_All_Summaries_Mergedd.xlsx\"\n",
    "df = pd.read_excel(input_file)\n",
    "\n",
    "# Define a list to store the N-gram scores\n",
    "ngram_scores = []\n",
    "\n",
    "# Define a function to compute N-gram overlap\n",
    "def ngram_overlap(text1, text2, n=2):\n",
    "    vectorizer = CountVectorizer(analyzer='word', ngram_range=(n, n))\n",
    "    ngram_matrix = vectorizer.fit_transform([text1, text2])\n",
    "    overlap = np.dot(ngram_matrix[0].toarray(), ngram_matrix[1].toarray().T)\n",
    "    return overlap[0, 0]\n",
    "\n",
    "# Iterate over the rows in the DataFrame with a progress bar\n",
    "for index, row in tqdm(df.iterrows(), total=len(df), desc=\"Calculating Scores\"):\n",
    "    # Get the original text and the generated summary\n",
    "    abstract = row['Abstract Summary']\n",
    "    claims = row['Claims Summary']\n",
    "\n",
    "    # Clean the abstract\n",
    "    abstract = re.sub(r'[^\\x00-\\x7F]+', '', str(abstract))\n",
    "    claims = re.sub(r'[^\\x00-\\x7F]+', '', str(claims))\n",
    "\n",
    "    # Combine the cleaned abstract\n",
    "    original_text = abstract+' '+claims\n",
    "    generated_summary = str(row['Summary(Abstract Summary+ Claim Summary)'])\n",
    "\n",
    "    # Calculate N-gram overlap (using bi-grams)\n",
    "    ngram_score = ngram_overlap(generated_summary, original_text, 2)\n",
    "\n",
    "    # Append the score to the list\n",
    "    ngram_scores.append(ngram_score)\n",
    "\n",
    "# Add the scores to the DataFrame\n",
    "df['N-gram_Score'] = ngram_scores\n",
    "\n",
    "# Save the updated DataFrame to a new Excel file\n",
    "output_file = \"Summary(Abstract Summary+ Claim Summary)_Ngram_gpt.xlsx\"\n",
    "df.to_excel(output_file, index=False)\n",
    "\n",
    "# Print the average score\n",
    "print(\"Average N-gram Score:\", sum(ngram_scores) / len(ngram_scores))\n"
   ]
  },
  {
   "cell_type": "code",
   "execution_count": 6,
   "id": "865f1207",
   "metadata": {},
   "outputs": [
    {
     "name": "stderr",
     "output_type": "stream",
     "text": [
      "Calculating Scores: 100%|█████████████████████████████████████████████████████████████████████████████████████████████████████████| 1630/1630 [00:01<00:00, 1009.71it/s]\n"
     ]
    },
    {
     "name": "stdout",
     "output_type": "stream",
     "text": [
      "Average N-gram Score: 8.634355828220858\n"
     ]
    }
   ],
   "source": [
    "import pandas as pd\n",
    "from tqdm import tqdm\n",
    "import re\n",
    "from sklearn.feature_extraction.text import CountVectorizer\n",
    "import numpy as np\n",
    "\n",
    "# Load the DataFrame from the Excel file\n",
    "input_file = \"GPT3.5_All_Summaries_Mergedd.xlsx\"\n",
    "df = pd.read_excel(input_file)\n",
    "\n",
    "# Define a list to store the N-gram scores\n",
    "ngram_scores = []\n",
    "\n",
    "# Define a function to compute N-gram overlap\n",
    "def ngram_overlap(text1, text2, n=2):\n",
    "    vectorizer = CountVectorizer(analyzer='word', ngram_range=(n, n))\n",
    "    ngram_matrix = vectorizer.fit_transform([text1, text2])\n",
    "    overlap = np.dot(ngram_matrix[0].toarray(), ngram_matrix[1].toarray().T)\n",
    "    return overlap[0, 0]\n",
    "\n",
    "# Iterate over the rows in the DataFrame with a progress bar\n",
    "for index, row in tqdm(df.iterrows(), total=len(df), desc=\"Calculating Scores\"):\n",
    "    # Get the original text and the generated summary\n",
    "    claims = row['Summary(Abstract Summary+ Claim Summary)']\n",
    "\n",
    "    # Clean the abstract\n",
    "    claims = re.sub(r'[^\\x00-\\x7F]+', '', str(claims))\n",
    "\n",
    "    # Combine the cleaned abstract\n",
    "    original_text = claims\n",
    "    generated_summary = str(row['Summary of Summary(Abstract Summary+ Claim Summary)'])\n",
    "\n",
    "    # Calculate N-gram overlap (using bi-grams)\n",
    "    ngram_score = ngram_overlap(generated_summary, original_text, 2)\n",
    "\n",
    "    # Append the score to the list\n",
    "    ngram_scores.append(ngram_score)\n",
    "\n",
    "# Add the scores to the DataFrame\n",
    "df['N-gram_Score'] = ngram_scores\n",
    "\n",
    "# Save the updated DataFrame to a new Excel file\n",
    "output_file = \"Summary of Summary(Abstract Summary+ Claim Summary)_Ngram_gpt.xlsx\"\n",
    "df.to_excel(output_file, index=False)\n",
    "\n",
    "# Print the average score\n",
    "print(\"Average N-gram Score:\", sum(ngram_scores) / len(ngram_scores))\n"
   ]
  },
  {
   "cell_type": "code",
   "execution_count": 7,
   "id": "5f640019",
   "metadata": {},
   "outputs": [
    {
     "name": "stderr",
     "output_type": "stream",
     "text": [
      "Calculating Scores: 100%|██████████████████████████████████████████████████████████████████████████████████████████████████████████| 1630/1630 [00:04<00:00, 378.23it/s]\n"
     ]
    },
    {
     "name": "stdout",
     "output_type": "stream",
     "text": [
      "Average N-gram Score: 942.9846625766871\n"
     ]
    }
   ],
   "source": [
    "import pandas as pd\n",
    "from tqdm import tqdm\n",
    "import re\n",
    "from sklearn.feature_extraction.text import CountVectorizer\n",
    "import numpy as np\n",
    "\n",
    "# Load the DataFrame from the Excel file\n",
    "input_file = \"GPT3.5_All_Summaries_Mergedd.xlsx\"\n",
    "df = pd.read_excel(input_file)\n",
    "\n",
    "# Define a list to store the N-gram scores\n",
    "ngram_scores = []\n",
    "\n",
    "# Define a function to compute N-gram overlap\n",
    "def ngram_overlap(text1, text2, n=2):\n",
    "    vectorizer = CountVectorizer(analyzer='word', ngram_range=(n, n))\n",
    "    ngram_matrix = vectorizer.fit_transform([text1, text2])\n",
    "    overlap = np.dot(ngram_matrix[0].toarray(), ngram_matrix[1].toarray().T)\n",
    "    return overlap[0, 0]\n",
    "\n",
    "# Iterate over the rows in the DataFrame with a progress bar\n",
    "for index, row in tqdm(df.iterrows(), total=len(df), desc=\"Calculating Scores\"):\n",
    "    # Get the original text and the generated summary\n",
    "    abstract = row['Abstract']\n",
    "    claims = row['Claims']\n",
    "\n",
    "    # Clean the abstract\n",
    "    abstract = re.sub(r'[^\\x00-\\x7F]+', '', str(abstract))\n",
    "    claims = re.sub(r'[^\\x00-\\x7F]+', '', str(claims))\n",
    "\n",
    "    # Combine the cleaned abstract\n",
    "    original_text = abstract+' '+claims\n",
    "    generated_summary = str(row['Summary Of (Abstrct+Claim) As single input'])\n",
    "\n",
    "    # Calculate N-gram overlap (using bi-grams)\n",
    "    ngram_score = ngram_overlap(generated_summary, original_text, 2)\n",
    "\n",
    "    # Append the score to the list\n",
    "    ngram_scores.append(ngram_score)\n",
    "\n",
    "# Add the scores to the DataFrame\n",
    "df['N-gram_Score'] = ngram_scores\n",
    "\n",
    "# Save the updated DataFrame to a new Excel file\n",
    "output_file = \"Summary Of (Abstrct+Claim) As single input_Ngram_gpt.xlsx\"\n",
    "df.to_excel(output_file, index=False)\n",
    "\n",
    "# Print the average score\n",
    "print(\"Average N-gram Score:\", sum(ngram_scores) / len(ngram_scores))\n"
   ]
  },
  {
   "cell_type": "code",
   "execution_count": null,
   "id": "7e01c83f",
   "metadata": {},
   "outputs": [],
   "source": []
  }
 ],
 "metadata": {
  "kernelspec": {
   "display_name": "Python 3 (ipykernel)",
   "language": "python",
   "name": "python3"
  },
  "language_info": {
   "codemirror_mode": {
    "name": "ipython",
    "version": 3
   },
   "file_extension": ".py",
   "mimetype": "text/x-python",
   "name": "python",
   "nbconvert_exporter": "python",
   "pygments_lexer": "ipython3",
   "version": "3.7.5"
  }
 },
 "nbformat": 4,
 "nbformat_minor": 5
}
