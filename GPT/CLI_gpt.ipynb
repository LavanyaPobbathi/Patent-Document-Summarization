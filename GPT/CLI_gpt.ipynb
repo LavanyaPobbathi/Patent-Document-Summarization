{
 "cells": [
  {
   "cell_type": "code",
   "execution_count": 1,
   "id": "646d778a",
   "metadata": {},
   "outputs": [
    {
     "name": "stderr",
     "output_type": "stream",
     "text": [
      "Calculating CLI Scores: 100%|█████████████████████████████████████████████████████████████████████████████████████████████████████| 1630/1630 [00:00<00:00, 7113.24it/s]\n"
     ]
    },
    {
     "name": "stdout",
     "output_type": "stream",
     "text": [
      "Average CLI Score: 15.377351268169019\n"
     ]
    }
   ],
   "source": [
    "#abstract code\n",
    "import pandas as pd\n",
    "from tqdm import tqdm\n",
    "import re\n",
    "\n",
    "# Load the DataFrame from the Excel file\n",
    "input_file = \"GPT3.5_All_Summaries_Mergedd.xlsx\"\n",
    "df = pd.read_excel(input_file)\n",
    "\n",
    "# Define lists to store the CLI scores\n",
    "cli_scores = []\n",
    "\n",
    "# Iterate over the rows in the DataFrame with a progress bar\n",
    "for index, row in tqdm(df.iterrows(), total=len(df), desc=\"Calculating CLI Scores\"):\n",
    "    # Get the generated summary\n",
    "    generated_summary = str(row['Abstract Summary'])\n",
    "\n",
    "    # Clean the generated_summary\n",
    "    generated_summary = re.sub(r'[^\\x00-\\x7F]+', '', generated_summary)\n",
    "\n",
    "    # Count the number of letters and sentences in generated_summary\n",
    "    num_letters = sum(c.isalpha() for c in generated_summary)\n",
    "    num_sentences = generated_summary.count('.') + generated_summary.count('!') + generated_summary.count('?')\n",
    "    num_words = len(generated_summary.split())\n",
    "\n",
    "    # Calculate average letters and sentences per 100 words\n",
    "    L = (num_letters / num_words) * 100 if num_words > 0 else 0\n",
    "    S = (num_sentences / num_words) * 100 if num_words > 0 else 0\n",
    "\n",
    "    # Calculate the Coleman-Liau Index\n",
    "    cli_score = 0.0588 * L - 0.296 * S - 15.8\n",
    "\n",
    "    # Append the CLI score to the list\n",
    "    cli_scores.append(cli_score)\n",
    "\n",
    "# Add the CLI scores to the DataFrame\n",
    "df['CLI_Score'] = cli_scores\n",
    "\n",
    "# Save the updated DataFrame to a new Excel file\n",
    "output_file = \"Summary_FRE_score_CLI_gpt.xlsx\"\n",
    "df.to_excel(output_file, index=False)\n",
    "\n",
    "# Print the average CLI score\n",
    "print(\"Average CLI Score:\", sum(cli_scores) / len(cli_scores) if len(cli_scores) > 0 else 0)\n"
   ]
  },
  {
   "cell_type": "code",
   "execution_count": 3,
   "id": "31470cec",
   "metadata": {},
   "outputs": [
    {
     "name": "stderr",
     "output_type": "stream",
     "text": [
      "Calculating CLI Scores: 100%|█████████████████████████████████████████████████████████████████████████████████████████████████████| 1630/1630 [00:00<00:00, 2423.08it/s]\n"
     ]
    },
    {
     "name": "stdout",
     "output_type": "stream",
     "text": [
      "Average CLI Score: 14.447861803707259\n"
     ]
    }
   ],
   "source": [
    "#claims code\n",
    "import pandas as pd\n",
    "from tqdm import tqdm\n",
    "import re\n",
    "\n",
    "# Load the DataFrame from the Excel file\n",
    "input_file = \"GPT3.5_All_Summaries_Mergedd.xlsx\"\n",
    "df = pd.read_excel(input_file)\n",
    "\n",
    "# Define lists to store the CLI scores\n",
    "cli_scores = []\n",
    "\n",
    "# Iterate over the rows in the DataFrame with a progress bar\n",
    "for index, row in tqdm(df.iterrows(), total=len(df), desc=\"Calculating CLI Scores\"):\n",
    "    # Get the generated summary\n",
    "    claim_Summary = str(row['Claims Summary'])\n",
    "\n",
    "    # Clean the generated_summary\n",
    "    generated_summary = re.sub(r'[^\\x00-\\x7F]+', '', claim_Summary)\n",
    "\n",
    "    # Count the number of letters and sentences in generated_summary\n",
    "    num_letters = sum(c.isalpha() for c in generated_summary)\n",
    "    num_sentences = generated_summary.count('.') + generated_summary.count('!') + generated_summary.count('?')\n",
    "    num_words = len(generated_summary.split())\n",
    "\n",
    "    # Calculate average letters and sentences per 100 words\n",
    "    L = (num_letters / num_words) * 100 if num_words > 0 else 0\n",
    "    S = (num_sentences / num_words) * 100 if num_words > 0 else 0\n",
    "\n",
    "    # Calculate the Coleman-Liau Index\n",
    "    cli_score = 0.0588 * L - 0.296 * S - 15.8\n",
    "\n",
    "    # Append the CLI score to the list\n",
    "    cli_scores.append(cli_score)\n",
    "\n",
    "# Add the CLI scores to the DataFrame\n",
    "df['CLI_Score'] = cli_scores\n",
    "\n",
    "# Save the updated DataFrame to a new Excel file\n",
    "output_file = \"Summary_CLI_score_Claims_gpt.xlsx\"\n",
    "df.to_excel(output_file, index=False)\n",
    "\n",
    "# Print the average CLI score\n",
    "print(\"Average CLI Score:\", sum(cli_scores) / len(cli_scores) if len(cli_scores) > 0 else 0)\n"
   ]
  },
  {
   "cell_type": "code",
   "execution_count": 7,
   "id": "c056ac7e",
   "metadata": {},
   "outputs": [
    {
     "name": "stderr",
     "output_type": "stream",
     "text": [
      "Calculating CLI Scores: 100%|█████████████████████████████████████████████████████████████████████████████████████████████████████| 1630/1630 [00:00<00:00, 5392.27it/s]\n"
     ]
    },
    {
     "name": "stdout",
     "output_type": "stream",
     "text": [
      "Average CLI Score: 16.247629698035848\n"
     ]
    }
   ],
   "source": [
    "#combined code\n",
    "import pandas as pd\n",
    "from tqdm import tqdm\n",
    "import re\n",
    "\n",
    "# Load the DataFrame from the Excel file\n",
    "input_file = \"GPT3.5_All_Summaries_Mergedd.xlsx\"\n",
    "df = pd.read_excel(input_file)\n",
    "\n",
    "# Define lists to store the CLI scores\n",
    "cli_scores = []\n",
    "\n",
    "# Iterate over the rows in the DataFrame with a progress bar\n",
    "for index, row in tqdm(df.iterrows(), total=len(df), desc=\"Calculating CLI Scores\"):\n",
    "    # Get the generated summary\n",
    "    Combined_Summary = str(row['Summary(Abstract Summary+ Claim Summary)'])\n",
    "\n",
    "    # Clean the generated_summary\n",
    "    generated_summary = re.sub(r'[^\\x00-\\x7F]+', '', Combined_Summary)\n",
    "\n",
    "    # Count the number of letters and sentences in generated_summary\n",
    "    num_letters = sum(c.isalpha() for c in generated_summary)\n",
    "    num_sentences = generated_summary.count('.') + generated_summary.count('!') + generated_summary.count('?')\n",
    "    num_words = len(generated_summary.split())\n",
    "\n",
    "    # Calculate average letters and sentences per 100 words\n",
    "    L = (num_letters / num_words) * 100 if num_words > 0 else 0\n",
    "    S = (num_sentences / num_words) * 100 if num_words > 0 else 0\n",
    "\n",
    "    # Calculate the Coleman-Liau Index\n",
    "    cli_score = 0.0588 * L - 0.296 * S - 15.8\n",
    "\n",
    "    # Append the CLI score to the list\n",
    "    cli_scores.append(cli_score)\n",
    "\n",
    "# Add the CLI scores to the DataFrame\n",
    "df['CLI_Score'] = cli_scores\n",
    "\n",
    "# Save the updated DataFrame to a new Excel file\n",
    "output_file = \"Summary(Abstract Summary+ Claim Summary)_CLI_gpt.xlsx\"\n",
    "df.to_excel(output_file, index=False)\n",
    "\n",
    "# Print the average CLI score\n",
    "print(\"Average CLI Score:\", sum(cli_scores) / len(cli_scores) if len(cli_scores) > 0 else 0)\n"
   ]
  },
  {
   "cell_type": "code",
   "execution_count": 8,
   "id": "212b23d7",
   "metadata": {},
   "outputs": [
    {
     "name": "stderr",
     "output_type": "stream",
     "text": [
      "Calculating CLI Scores: 100%|████████████████████████████████████████████████████████████████████████████████████████████████████| 1630/1630 [00:00<00:00, 11753.11it/s]\n"
     ]
    },
    {
     "name": "stdout",
     "output_type": "stream",
     "text": [
      "Average CLI Score: 9.358584231982212\n"
     ]
    }
   ],
   "source": [
    "#combined code\n",
    "import pandas as pd\n",
    "from tqdm import tqdm\n",
    "import re\n",
    "\n",
    "# Load the DataFrame from the Excel file\n",
    "input_file = \"GPT3.5_All_Summaries_Mergedd.xlsx\"\n",
    "df = pd.read_excel(input_file)\n",
    "\n",
    "# Define lists to store the CLI scores\n",
    "cli_scores = []\n",
    "\n",
    "# Iterate over the rows in the DataFrame with a progress bar\n",
    "for index, row in tqdm(df.iterrows(), total=len(df), desc=\"Calculating CLI Scores\"):\n",
    "    # Get the generated summary\n",
    "    Combined_Summary = str(row['Summary of Summary(Abstract Summary+ Claim Summary)'])\n",
    "\n",
    "    # Clean the generated_summary\n",
    "    generated_summary = re.sub(r'[^\\x00-\\x7F]+', '', Combined_Summary)\n",
    "\n",
    "    # Count the number of letters and sentences in generated_summary\n",
    "    num_letters = sum(c.isalpha() for c in generated_summary)\n",
    "    num_sentences = generated_summary.count('.') + generated_summary.count('!') + generated_summary.count('?')\n",
    "    num_words = len(generated_summary.split())\n",
    "\n",
    "    # Calculate average letters and sentences per 100 words\n",
    "    L = (num_letters / num_words) * 100 if num_words > 0 else 0\n",
    "    S = (num_sentences / num_words) * 100 if num_words > 0 else 0\n",
    "\n",
    "    # Calculate the Coleman-Liau Index\n",
    "    cli_score = 0.0588 * L - 0.296 * S - 15.8\n",
    "\n",
    "    # Append the CLI score to the list\n",
    "    cli_scores.append(cli_score)\n",
    "\n",
    "# Add the CLI scores to the DataFrame\n",
    "df['CLI_Score'] = cli_scores\n",
    "\n",
    "# Save the updated DataFrame to a new Excel file\n",
    "output_file = \"Summary of Summary(Abstract Summary+ Claim Summary)_CLI_gpt.xlsx\"\n",
    "df.to_excel(output_file, index=False)\n",
    "\n",
    "# Print the average CLI score\n",
    "print(\"Average CLI Score:\", sum(cli_scores) / len(cli_scores) if len(cli_scores) > 0 else 0)\n"
   ]
  },
  {
   "cell_type": "code",
   "execution_count": 9,
   "id": "a308c39b",
   "metadata": {},
   "outputs": [
    {
     "name": "stderr",
     "output_type": "stream",
     "text": [
      "Calculating CLI Scores: 100%|█████████████████████████████████████████████████████████████████████████████████████████████████████| 1630/1630 [00:00<00:00, 4972.44it/s]\n"
     ]
    },
    {
     "name": "stdout",
     "output_type": "stream",
     "text": [
      "Average CLI Score: 15.409723259083716\n"
     ]
    }
   ],
   "source": [
    "#combined code\n",
    "import pandas as pd\n",
    "from tqdm import tqdm\n",
    "import re\n",
    "\n",
    "# Load the DataFrame from the Excel file\n",
    "input_file = \"GPT3.5_All_Summaries_Mergedd.xlsx\"\n",
    "df = pd.read_excel(input_file)\n",
    "\n",
    "# Define lists to store the CLI scores\n",
    "cli_scores = []\n",
    "\n",
    "# Iterate over the rows in the DataFrame with a progress bar\n",
    "for index, row in tqdm(df.iterrows(), total=len(df), desc=\"Calculating CLI Scores\"):\n",
    "    # Get the generated summary\n",
    "    Combined_Summary = str(row['Summary Of (Abstrct+Claim) As single input'])\n",
    "\n",
    "    # Clean the generated_summary\n",
    "    generated_summary = re.sub(r'[^\\x00-\\x7F]+', '', Combined_Summary)\n",
    "\n",
    "    # Count the number of letters and sentences in generated_summary\n",
    "    num_letters = sum(c.isalpha() for c in generated_summary)\n",
    "    num_sentences = generated_summary.count('.') + generated_summary.count('!') + generated_summary.count('?')\n",
    "    num_words = len(generated_summary.split())\n",
    "\n",
    "    # Calculate average letters and sentences per 100 words\n",
    "    L = (num_letters / num_words) * 100 if num_words > 0 else 0\n",
    "    S = (num_sentences / num_words) * 100 if num_words > 0 else 0\n",
    "\n",
    "    # Calculate the Coleman-Liau Index\n",
    "    cli_score = 0.0588 * L - 0.296 * S - 15.8\n",
    "\n",
    "    # Append the CLI score to the list\n",
    "    cli_scores.append(cli_score)\n",
    "\n",
    "# Add the CLI scores to the DataFrame\n",
    "df['CLI_Score'] = cli_scores\n",
    "\n",
    "# Save the updated DataFrame to a new Excel file\n",
    "output_file = \"Summary Of (Abstrct+Claim) As single input_CLI_gpt.xlsx\"\n",
    "df.to_excel(output_file, index=False)\n",
    "\n",
    "# Print the average CLI score\n",
    "print(\"Average CLI Score:\", sum(cli_scores) / len(cli_scores) if len(cli_scores) > 0 else 0)\n"
   ]
  },
  {
   "cell_type": "code",
   "execution_count": null,
   "id": "deeae7a5",
   "metadata": {},
   "outputs": [],
   "source": []
  }
 ],
 "metadata": {
  "kernelspec": {
   "display_name": "Python 3 (ipykernel)",
   "language": "python",
   "name": "python3"
  },
  "language_info": {
   "codemirror_mode": {
    "name": "ipython",
    "version": 3
   },
   "file_extension": ".py",
   "mimetype": "text/x-python",
   "name": "python",
   "nbconvert_exporter": "python",
   "pygments_lexer": "ipython3",
   "version": "3.7.5"
  }
 },
 "nbformat": 4,
 "nbformat_minor": 5
}
