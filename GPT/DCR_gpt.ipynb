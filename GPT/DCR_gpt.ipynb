{
 "cells": [
  {
   "cell_type": "code",
   "execution_count": 2,
   "id": "fe72f3ce",
   "metadata": {},
   "outputs": [
    {
     "name": "stderr",
     "output_type": "stream",
     "text": [
      "Calculating Scores: 100%|█████████████████████████████████████████████████████████████████████████████████████████████████████████| 1630/1630 [00:00<00:00, 2510.92it/s]\n"
     ]
    },
    {
     "name": "stdout",
     "output_type": "stream",
     "text": [
      "Average Dale-Chall Readability Score: 10.430141104294492\n"
     ]
    }
   ],
   "source": [
    "import pandas as pd\n",
    "from tqdm import tqdm\n",
    "import textstat\n",
    "import re\n",
    "\n",
    "# Load the DataFrame from the Excel file\n",
    "input_file = \"GPT3.5_All_Summaries_Mergedd.xlsx\"\n",
    "df = pd.read_excel(input_file)\n",
    "\n",
    "# Define a list to store the Dale-Chall Readability scores\n",
    "dcr_scores = []\n",
    "\n",
    "# Iterate over the rows in the DataFrame with a progress bar\n",
    "for index, row in tqdm(df.iterrows(), total=len(df), desc=\"Calculating Scores\"):\n",
    "    # Get the abstract summary\n",
    "    abstract_summary = str(row['Abstract Summary'])\n",
    "\n",
    "    # Clean the abstract summary\n",
    "    abstract_summary = re.sub(r'[^\\x00-\\x7F]+', '', abstract_summary)\n",
    "\n",
    "    # Calculate Dale-Chall Readability score\n",
    "    dcr_score = textstat.dale_chall_readability_score(abstract_summary)\n",
    "\n",
    "    # Append the score to the list\n",
    "    dcr_scores.append(dcr_score)\n",
    "\n",
    "# Add the scores to the DataFrame\n",
    "df['Dale_Chall_Readability_Score'] = dcr_scores\n",
    "\n",
    "# Save the updated DataFrame to a new Excel file\n",
    "output_file = \"Summary_score_DCR_gpt.xlsx\"\n",
    "df.to_excel(output_file, index=False)\n",
    "\n",
    "# Print the average Dale-Chall Readability Score\n",
    "print(\"Average Dale-Chall Readability Score:\", sum(dcr_scores) / len(dcr_scores))\n"
   ]
  },
  {
   "cell_type": "code",
   "execution_count": 3,
   "id": "43827c9d",
   "metadata": {},
   "outputs": [
    {
     "name": "stderr",
     "output_type": "stream",
     "text": [
      "Calculating Scores: 100%|█████████████████████████████████████████████████████████████████████████████████████████████████████████| 1630/1630 [00:01<00:00, 1034.05it/s]\n"
     ]
    },
    {
     "name": "stdout",
     "output_type": "stream",
     "text": [
      "Average Dale-Chall Readability Score: 8.318907975460114\n"
     ]
    }
   ],
   "source": [
    "import pandas as pd\n",
    "from tqdm import tqdm\n",
    "import textstat\n",
    "import re\n",
    "\n",
    "# Load the DataFrame from the Excel file\n",
    "input_file = \"GPT3.5_All_Summaries_Mergedd.xlsx\"\n",
    "df = pd.read_excel(input_file)\n",
    "\n",
    "# Define a list to store the Dale-Chall Readability scores\n",
    "dcr_scores = []\n",
    "\n",
    "# Iterate over the rows in the DataFrame with a progress bar\n",
    "for index, row in tqdm(df.iterrows(), total=len(df), desc=\"Calculating Scores\"):\n",
    "    # Get the abstract summary\n",
    "    claim_Summary = str(row['Claims Summary'])\n",
    "\n",
    "    # Clean the abstract summary\n",
    "    claim_Summary = re.sub(r'[^\\x00-\\x7F]+', '', claim_Summary)\n",
    "\n",
    "    # Calculate Dale-Chall Readability score\n",
    "    dcr_score = textstat.dale_chall_readability_score(claim_Summary)\n",
    "\n",
    "    # Append the score to the list\n",
    "    dcr_scores.append(dcr_score)\n",
    "\n",
    "# Add the scores to the DataFrame\n",
    "df['Dale_Chall_Readability_Score'] = dcr_scores\n",
    "\n",
    "# Save the updated DataFrame to a new Excel file\n",
    "output_file = \"Summary_DCR_score_Claims_gpt.xlsx\"\n",
    "df.to_excel(output_file, index=False)\n",
    "\n",
    "# Print the average Dale-Chall Readability Score\n",
    "print(\"Average Dale-Chall Readability Score:\", sum(dcr_scores) / len(dcr_scores))\n"
   ]
  },
  {
   "cell_type": "code",
   "execution_count": 4,
   "id": "e567fe60",
   "metadata": {},
   "outputs": [
    {
     "name": "stderr",
     "output_type": "stream",
     "text": [
      "Calculating Scores: 100%|█████████████████████████████████████████████████████████████████████████████████████████████████████████| 1630/1630 [00:00<00:00, 1917.29it/s]\n"
     ]
    },
    {
     "name": "stdout",
     "output_type": "stream",
     "text": [
      "Average Dale-Chall Readability Score: 10.35134969325154\n"
     ]
    }
   ],
   "source": [
    "import pandas as pd\n",
    "from tqdm import tqdm\n",
    "import textstat\n",
    "import re\n",
    "\n",
    "# Load the DataFrame from the Excel file\n",
    "input_file = \"GPT3.5_All_Summaries_Mergedd.xlsx\"\n",
    "df = pd.read_excel(input_file)\n",
    "\n",
    "# Define a list to store the Dale-Chall Readability scores\n",
    "dcr_scores = []\n",
    "\n",
    "# Iterate over the rows in the DataFrame with a progress bar\n",
    "for index, row in tqdm(df.iterrows(), total=len(df), desc=\"Calculating Scores\"):\n",
    "    # Get the abstract summary\n",
    "    Combined_Summary = str(row['Summary(Abstract Summary+ Claim Summary)'])\n",
    "\n",
    "    # Clean the abstract summary\n",
    "    Combined_Summary = re.sub(r'[^\\x00-\\x7F]+', '', Combined_Summary)\n",
    "\n",
    "    # Calculate Dale-Chall Readability score\n",
    "    dcr_score = textstat.dale_chall_readability_score(Combined_Summary)\n",
    "\n",
    "    # Append the score to the list\n",
    "    dcr_scores.append(dcr_score)\n",
    "\n",
    "# Add the scores to the DataFrame\n",
    "df['Dale_Chall_Readability_Score'] = dcr_scores\n",
    "\n",
    "# Save the updated DataFrame to a new Excel file\n",
    "output_file = \"Summary(Abstract Summary+ Claim Summary)_DCR_gpt.xlsx\"\n",
    "df.to_excel(output_file, index=False)\n",
    "\n",
    "# Print the average Dale-Chall Readability Score\n",
    "print(\"Average Dale-Chall Readability Score:\", sum(dcr_scores) / len(dcr_scores))\n"
   ]
  },
  {
   "cell_type": "code",
   "execution_count": 5,
   "id": "25c6250d",
   "metadata": {},
   "outputs": [
    {
     "name": "stderr",
     "output_type": "stream",
     "text": [
      "Calculating Scores: 100%|█████████████████████████████████████████████████████████████████████████████████████████████████████████| 1630/1630 [00:00<00:00, 5345.79it/s]\n"
     ]
    },
    {
     "name": "stdout",
     "output_type": "stream",
     "text": [
      "Average Dale-Chall Readability Score: 15.003742331288183\n"
     ]
    }
   ],
   "source": [
    "import pandas as pd\n",
    "from tqdm import tqdm\n",
    "import textstat\n",
    "import re\n",
    "\n",
    "# Load the DataFrame from the Excel file\n",
    "input_file = \"GPT3.5_All_Summaries_Mergedd.xlsx\"\n",
    "df = pd.read_excel(input_file)\n",
    "\n",
    "# Define a list to store the Dale-Chall Readability scores\n",
    "dcr_scores = []\n",
    "\n",
    "# Iterate over the rows in the DataFrame with a progress bar\n",
    "for index, row in tqdm(df.iterrows(), total=len(df), desc=\"Calculating Scores\"):\n",
    "    # Get the abstract summary\n",
    "    claim_Summary = str(row['Summary of Summary(Abstract Summary+ Claim Summary)'])\n",
    "\n",
    "    # Clean the abstract summary\n",
    "    claim_Summary = re.sub(r'[^\\x00-\\x7F]+', '', claim_Summary)\n",
    "\n",
    "    # Calculate Dale-Chall Readability score\n",
    "    dcr_score = textstat.dale_chall_readability_score(claim_Summary)\n",
    "\n",
    "    # Append the score to the list\n",
    "    dcr_scores.append(dcr_score)\n",
    "\n",
    "# Add the scores to the DataFrame\n",
    "df['Dale_Chall_Readability_Score'] = dcr_scores\n",
    "\n",
    "# Save the updated DataFrame to a new Excel file\n",
    "output_file = \"Summary of Summary(Abstract Summary+ Claim Summary)_DCR_gpt.xlsx\"\n",
    "df.to_excel(output_file, index=False)\n",
    "\n",
    "# Print the average Dale-Chall Readability Score\n",
    "print(\"Average Dale-Chall Readability Score:\", sum(dcr_scores) / len(dcr_scores))\n"
   ]
  },
  {
   "cell_type": "code",
   "execution_count": 1,
   "id": "a8aa82db",
   "metadata": {},
   "outputs": [
    {
     "name": "stderr",
     "output_type": "stream",
     "text": [
      "Calculating Scores: 100%|█████████████████████████████████████████████████████████████████████████████████████████████████████████| 1630/1630 [00:01<00:00, 1513.25it/s]\n"
     ]
    },
    {
     "name": "stdout",
     "output_type": "stream",
     "text": [
      "Average Dale-Chall Readability Score: 9.547950920245421\n"
     ]
    }
   ],
   "source": [
    "import pandas as pd\n",
    "from tqdm import tqdm\n",
    "import textstat\n",
    "import re\n",
    "\n",
    "# Load the DataFrame from the Excel file\n",
    "input_file = \"GPT3.5_All_Summaries_Mergedd.xlsx\"\n",
    "df = pd.read_excel(input_file)\n",
    "\n",
    "# Define a list to store the Dale-Chall Readability scores\n",
    "dcr_scores = []\n",
    "\n",
    "# Iterate over the rows in the DataFrame with a progress bar\n",
    "for index, row in tqdm(df.iterrows(), total=len(df), desc=\"Calculating Scores\"):\n",
    "    # Get the abstract summary\n",
    "    Combined_Summary = str(row['Summary Of (Abstrct+Claim) As single input'])\n",
    "\n",
    "    # Clean the abstract summary\n",
    "    Combined_Summary = re.sub(r'[^\\x00-\\x7F]+', '', Combined_Summary)\n",
    "\n",
    "    # Calculate Dale-Chall Readability score\n",
    "    dcr_score = textstat.dale_chall_readability_score(Combined_Summary)\n",
    "\n",
    "    # Append the score to the list\n",
    "    dcr_scores.append(dcr_score)\n",
    "\n",
    "# Add the scores to the DataFrame\n",
    "df['Dale_Chall_Readability_Score'] = dcr_scores\n",
    "\n",
    "# Save the updated DataFrame to a new Excel file\n",
    "output_file = \"Summary Of (Abstrct+Claim) As single input_DCR_gpt.xlsx\"\n",
    "df.to_excel(output_file, index=False)\n",
    "\n",
    "# Print the average Dale-Chall Readability Score\n",
    "print(\"Average Dale-Chall Readability Score:\", sum(dcr_scores) / len(dcr_scores))\n"
   ]
  },
  {
   "cell_type": "code",
   "execution_count": null,
   "id": "5b8afd7f",
   "metadata": {},
   "outputs": [],
   "source": []
  }
 ],
 "metadata": {
  "kernelspec": {
   "display_name": "Python 3 (ipykernel)",
   "language": "python",
   "name": "python3"
  },
  "language_info": {
   "codemirror_mode": {
    "name": "ipython",
    "version": 3
   },
   "file_extension": ".py",
   "mimetype": "text/x-python",
   "name": "python",
   "nbconvert_exporter": "python",
   "pygments_lexer": "ipython3",
   "version": "3.7.5"
  }
 },
 "nbformat": 4,
 "nbformat_minor": 5
}
