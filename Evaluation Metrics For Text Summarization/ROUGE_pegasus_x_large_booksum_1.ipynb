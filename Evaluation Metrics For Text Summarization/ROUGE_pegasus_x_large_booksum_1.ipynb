{
  "cells": [
    {
      "cell_type": "markdown",
      "metadata": {
        "id": "zrk4oh2pF8pX"
      },
      "source": [
        "Calculating all the mentioned metrics for long input text is a complex task as it involves using multiple libraries and specific implementations for each metric. However, I can provide you with an example code snippet that demonstrates the calculation of ROUGE, ROUGE-WE, BertScore, and METEOR metrics using their respective libraries. Please note that the code snippet assumes you have already installed the necessary libraries."
      ]
    },
    {
      "cell_type": "markdown",
      "source": [
        "We grade models measured via Rouge scores on the following scale:\n",
        "\n",
        "Grade\tRouge1\tRougeL\n",
        "\n",
        "🟢A+\t> 48\t> 46\n",
        "\n",
        "🟢A\t> 45\t> 45\n",
        "\n",
        "🟡B\t> 40\t> 40\n",
        "\n",
        "🟠C\t> 35\t> 35\n",
        "\n",
        "🔴F\t0-35\t0-35\n"
      ],
      "metadata": {
        "id": "KNLPbsKDElA3"
      }
    },
    {
      "cell_type": "markdown",
      "source": [
        "Rouge Metrics explained\n",
        "Note: This is a high-level description, designed to provide intuition for understanding Rouge metrics, for a more mathematically accurate explanation please see this blog post or the original Rouge paper\n",
        "\n",
        "ROUGE-1: Shared words\n",
        "\n",
        "Number of words that appear in both model output, and expected output\n",
        "Example: 0.5 means half of the words appear in both model output and expected output\n",
        "\n",
        "ROUGE-2: Shared word-pairs\n",
        "Number of word-pairs that appear in both model output, and expected output (as pairs)\n",
        "Example: 0.5 means half of the adjacent word pairs appear in both model output and expected output.\n",
        "This is a stricter metric than Rouge1, which is slightly more sensitive to the order\n",
        "\n",
        "ROUGE-L: Longest shared word-sequence\n",
        "\n",
        "The number of words appear in the exact same order. in both model output, and **expected\n",
        "Example: 0.5 means half of the entire output of expected output is the same half of the entire expected text.\n",
        "This metric is very sensitive to the generated order of words.\n",
        "As two summaries or headlines are unlikely to be generated exactly the same (same words, order, inflections, and suffixes), Rouge metrics usually peak around 50 (0.50) while representing a very high-quality output."
      ],
      "metadata": {
        "id": "PovJWhmIEqmG"
      }
    },
    {
      "cell_type": "code",
      "execution_count": null,
      "metadata": {
        "id": "6pOnTcObF3-a"
      },
      "outputs": [],
      "source": [
        "# Example input content and reference summary\n",
        "input_content = '''It is inter alia disclosed to determine a phase difference between a light signal transmitted by a time of flight camera system and a reflected light signal received by at least one pixel sensor of an array of pixel sensors in an image sensor of the time of flight camera system, wherein the reflected light signal received by the at least one pixel sensor is reflected from an object illuminated by the transmitted light signal (301); determine an amplitude of the reflected light signal received by the at least one pixel sensor (301); combine the amplitude and phase difference for the at least one pixel sensor into a combined signal parameter for the at least one pixel sensor (307); and de-noise the combined signal parameter for the at least one pixel sensor by filtering with a filter the combined parameter for the at least one pixel sensor (309)\n",
        "The invention claimed is:\n",
        "1. A method comprising:\n",
        "determining a phase difference between a light signal transmitted by a time of flight camera system and a reflected light signal received by at least one pixel sensor of an array of pixel sensors in an image sensor of the time of flight camera system, wherein the reflected light signal received by the at least one pixel sensor is reflected from an object illuminated by the transmitted light signal;\n",
        "determining an amplitude of the reflected light signal received by the at least one pixel sensor;\n",
        "de-noising at least one of the phase difference or the amplitude for the at least one pixel sensor by filtering the phase difference or the amplitude for the at least one pixel sensor;\n",
        "following de-noising of at least one of the phase difference or the amplitude, combining the amplitude and phase difference for the at least one pixel sensor into a combined signal parameter for the at least one pixel sensor; and\n",
        "de-noising the combined signal parameter for the at least one pixel sensor by filtering the combined parameter for the at least one pixel sensor to generate a de-noised combined signal parameter from which a distance map image that is less effected by noise is determinable by the time of flight camera system.\n",
        "2. The method as claimed in claim 1, wherein the filtering further comprises:\n",
        "filtering with a non-local spatial transform filter.\n",
        "3. The method as claimed in claim 2, wherein the non-local spatial transform filter is a non-local means filter.\n",
        "4. The method as claimed in claim 1, further comprising calculating a distance range to the object from the de-noised combined signal parameter for the at least one pixel sensor by:\n",
        "determining the de-noised phase difference for the at least one pixel sensor from the de-noised combined signal parameter for the at least one pixel sensor; and\n",
        "calculating the distance range to the object for the at least one pixel sensor using the de-noised phase difference for the at least one pixel sensor.\n",
        "5. The method as claimed in claim 1, wherein the combined signal parameter is a complex signal parameter formed from combining the amplitude and phase difference for the at least one pixel sensor.\n",
        "6. The method as claimed in claim 1, wherein the image sensor of the time of flight camera system is based at least in part on a photonic mixer device.\n",
        "7. An apparatus comprising at least one processor and at least one memory including computer code for one or more programs, the at least one memory and the computer code configured with the at least one processor to cause the apparatus at least to:\n",
        "determine a phase difference between a light signal transmitted by a time of flight camera system and a reflected light signal received by at least one pixel sensor of an array of pixel sensors in an image sensor of the time of flight camera system, wherein the reflected light signal received by the at least one pixel sensor is reflected from an object illuminated by the transmitted light signal;\n",
        "determine an amplitude of the reflected light signal received by the at least one pixel sensor;\n",
        "de-noise at least one of the phase difference or the amplitude for the at least one pixel sensor by filtering the phase difference or the amplitude for the at least one pixel sensor;\n",
        "following de-noising of at least one of the phase difference or the amplitude, combine the amplitude and phase difference for the at least one pixel sensor into a combined signal parameter for the at least one pixel sensor; and\n",
        "de-noise the combined signal parameter for the at least one pixel sensor by filtering the combined parameter for the at least one pixel sensor to generate a de-noised combined signal parameter from which a distance map image that is less effected by noise is determinable by the time of flight camera system.\n",
        "8. The apparatus as claimed in claim 7, wherein filtering comprises filtering with a non-local spatial transform filter.\n",
        "9. The apparatus as claimed in claim 8, wherein the non-local spatial transform filter is a non-local means filter.\n",
        "10. The apparatus as claimed in claim 7, wherein the at least one memory and the computer code configured with the at least one processor is further configured to calculate a distance range to the object from the de-noised combined signal parameter for the at least one pixel sensor by being configured to:\n",
        "determine the de-noised phase difference for the at least one pixel sensor from the de-noised combined signal parameter for the at least one pixel sensor, and\n",
        "calculate the distance range to the object for the at least one pixel sensor using the de-noised phase difference for the at least one pixel sensor.\n",
        "11. The apparatus as claimed in claim 7, wherein the combined signal parameter is a complex signal parameter formed from combining the amplitude and phase difference for the at least one pixel sensor.\n",
        "12. The apparatus as claimed in claim 7, wherein the image sensor of the time of flight camera system is based at least in part on a photonic mixer device.\n",
        "13. A computer program product comprising at least one computer-readable storage medium, the computer-readable storage medium comprising a set of instructions, which, when executed by one or more processors, causes an apparatus to:\n",
        "determine a phase difference between a light signal transmitted by a time of flight camera system and a reflected light signal received by at least one pixel sensor of an array of pixel sensors in an image sensor of the time of flight camera system, wherein the reflected light signal received by the at least one pixel sensor is reflected from an object illuminated by the transmitted light signal;\n",
        "determine an amplitude of the reflected light signal received by the at least one pixel sensor;\n",
        "de-noise at least one of the phase difference or the amplitude for the at least one pixel sensor by filtering the phase difference or the amplitude for the at least one pixel sensor;\n",
        "following de-noising of at least one of the phase difference or the amplitude, combine the amplitude and phase difference for the at least one pixel sensor into a combined signal parameter for the at least one pixel sensor; and\n",
        "de-noise the combined signal parameter for the at least one pixel sensor by filtering the combined parameter for the at least one pixel sensor to generate a de-noised combined signal parameter from which a distance map image that is less effected by noise is determinable by the time of flight camera system.\n",
        "14. The computer program product as claimed in claim 13, wherein the set of instructions when executed by the processor causes the apparatus to filter, further causes the apparatus to:\n",
        "filter with a non-local spatial transform filter.\n",
        "15. The computer program product as claimed in claim 14, wherein the non-local spatial transform filter is a non-local means filter.\n",
        "16. The computer program product as claimed in claim 13, wherein the set of instructions when executed by the processor further causes the apparatus to calculate a distance range to the object from the de-noised combined signal parameter for the at least one pixel sensor by being caused to:\n",
        "determine the de-noised phase difference for the at least one pixel sensor from the de-noised combined signal parameter for the at least one pixel sensor; and\n",
        "calculate the distance range to the object for the at least one pixel sensor using the de-noised phase difference for the at least one pixel sensor.\n",
        "17. The computer program product as claimed in claim 13, wherein the combined signal parameter is a complex signal parameter formed from combining the amplitude and phase difference for the at least one pixel sensor.\n",
        "18. The computer program product as claimed in claim 13, wherein the image sensor of the time of flight camera system is based at least in part on a photonic mixer device.\n",
        "'''\n",
        "reference_summary = \"The present invention relates to an image sensing device that uses a single pixel as an illuminated signal source. A method is further described for determining the phase differences between light signals received by time-of-flight-camera system and an irrational reflection signal received from at least two pixel objects. In particular, the method determines an ominous phase difference in the form of an emitted light signal. An illustrious feature of the present invention is that it can be used as a basis for calculating distance ranges to an object from a determined phase difference.\"\n",
        "\n"
      ]
    },
    {
      "cell_type": "code",
      "execution_count": null,
      "metadata": {
        "id": "6RgA1BiMZfsR"
      },
      "outputs": [],
      "source": [
        "from rouge_score import rouge_scorer\n"
      ]
    },
    {
      "cell_type": "code",
      "execution_count": null,
      "metadata": {
        "colab": {
          "base_uri": "https://localhost:8080/"
        },
        "id": "1GWHaparTGEW",
        "outputId": "482b1145-eefe-4f58-d468-5768b9c333df"
      },
      "outputs": [
        {
          "name": "stdout",
          "output_type": "stream",
          "text": [
            "ROUGE Scores:\n",
            "rouge1: 0.009833024118738405\n",
            "rouge2: 0.0035540591096146655\n",
            "rougeL: 0.006122448979591837\n"
          ]
        }
      ],
      "source": [
        "#!pip install rouge_score\n",
        "from rouge_score import rouge_scorer\n",
        "\n",
        "# Split input content and reference summary into segments (e.g., paragraphs)\n",
        "input_segments = input_content.split(\"\\n\")\n",
        "reference_segments = reference_summary.split(\"\\n\")\n",
        "\n",
        "# ROUGE\n",
        "rouge_scorer = rouge_scorer.RougeScorer(['rouge1', 'rouge2', 'rougeL'], use_stemmer=True)\n",
        "total_rouge_scores = {\n",
        "    'rouge1': 0.0,\n",
        "    'rouge2': 0.0,\n",
        "    'rougeL': 0.0\n",
        "}\n",
        "\n",
        "for input_seg, reference_seg in zip(input_segments, reference_segments):\n",
        "    scores = rouge_scorer.score(input_seg, reference_seg)\n",
        "    for metric, value in scores.items():\n",
        "        total_rouge_scores[metric] += value.fmeasure\n",
        "\n",
        "average_rouge_scores = {metric: total_rouge_scores[metric] / len(input_segments) for metric in total_rouge_scores}\n",
        "\n",
        "\n",
        "# Print the results\n",
        "print(\"ROUGE Scores:\")\n",
        "for metric, score in average_rouge_scores.items():\n",
        "    print(f\"{metric}: {score}\")\n",
        "\n"
      ]
    },
    {
      "cell_type": "markdown",
      "metadata": {
        "id": "LzPGnq2HoBSL"
      },
      "source": [
        "### ROUGE SCORE for pegasus-x-large-booksum-1"
      ]
    },
    {
      "cell_type": "code",
      "execution_count": null,
      "metadata": {
        "id": "edMNcadFmN1F"
      },
      "outputs": [],
      "source": [
        "import pandas as pd\n",
        "from rouge_score import rouge_scorer\n",
        "\n",
        "# Assuming you have a CSV file named 'your_data.csv' with 1620 rows and columns: 'Abstract', 'Claims', and 'Summary'\n",
        "\n",
        "# Read only the first 1620 rows from the CSV file\n",
        "df = pd.read_excel('pegasus-x-large-booksum-1.xlsx', nrows=1630)\n",
        "\n",
        "# Extract the desired columns\n",
        "columns_to_keep = ['Filename', 'Abstract', 'Claims', 'Summary']  # Add other column names here\n",
        "df_subset = df[columns_to_keep]\n",
        "\n",
        "# Store the 'Abstract' and 'Claims' columns in one variable\n",
        "abstract_and_claims = df['Abstract'] + ' ' + df['Claims']\n",
        "\n",
        "# Store the 'Summary' column in another variable\n",
        "summary = df['Summary']\n",
        "\n",
        "# Create a new DataFrame to store the ROUGE scores\n",
        "rouge_scores_df = pd.DataFrame()\n",
        "\n",
        "# ROUGE\n",
        "rouge_scorer = rouge_scorer.RougeScorer(['rouge1', 'rouge2', 'rougeL'], use_stemmer=True)\n",
        "\n",
        "for i in range(len(abstract_and_claims)):\n",
        "    input_content = abstract_and_claims[i]\n",
        "    reference_summary = summary[i]\n",
        "\n",
        "    # Split input content and reference summary into segments (e.g., paragraphs)\n",
        "    input_segments = input_content.split(\"\\n\")\n",
        "    reference_segments = reference_summary.split(\"\\n\")\n",
        "\n",
        "    # Initialize the scores for this row\n",
        "    row_scores = {}\n",
        "\n",
        "    for input_seg, reference_seg in zip(input_segments, reference_segments):\n",
        "        scores = rouge_scorer.score(input_seg, reference_seg)\n",
        "        for metric, value in scores.items():\n",
        "            if metric not in row_scores:\n",
        "                row_scores[metric] = []\n",
        "            row_scores[metric].append(value.fmeasure)\n",
        "\n",
        "    # Calculate the average scores for this row\n",
        "    num_segments = len(input_segments)\n",
        "    row_scores_avg = {metric: sum(scores) / num_segments for metric, scores in row_scores.items()}\n",
        "\n",
        "    # Convert the row_scores_avg to a DataFrame and append to rouge_scores_df\n",
        "    row_scores_df = pd.DataFrame(row_scores_avg, index=[i])\n",
        "    rouge_scores_df = rouge_scores_df.append(row_scores_df, ignore_index=True)\n",
        "\n",
        "# Merge the original data with the ROUGE scores\n",
        "merged_df = pd.concat([df_subset, rouge_scores_df], axis=1)\n",
        "\n",
        "# Save the scores to a CSV file\n",
        "merged_df.to_csv('rouge_scores_Final.csv', index=False)\n"
      ]
    },
    {
      "cell_type": "markdown",
      "metadata": {
        "id": "WMhZjMuBoTuN"
      },
      "source": [
        "### ROUGE SCORE for long-t5-tglobal-base-16384-book-summary-2"
      ]
    },
    {
      "cell_type": "code",
      "execution_count": null,
      "metadata": {
        "id": "Bwc2v3xGoS-7"
      },
      "outputs": [],
      "source": [
        "  import pandas as pd\n",
        "from rouge_score import rouge_scorer\n",
        "\n",
        "# Assuming you have a CSV file named 'your_data.csv' with 1620 rows and columns: 'Abstract', 'Claims', and 'Summary'\n",
        "\n",
        "# Read only the first 1620 rows from the CSV file\n",
        "df = pd.read_excel('long-t5-tglobal-base-16384-book-summary-2.xlsx', nrows=1630)\n",
        "\n",
        "# Extract the desired columns\n",
        "columns_to_keep = ['Filename', 'Abstract', 'Claims', 'Summary']  # Add other column names here\n",
        "df_subset = df[columns_to_keep]\n",
        "\n",
        "# Store the 'Abstract' and 'Claims' columns in one variable\n",
        "abstract_and_claims = df['Abstract'] + ' ' + df['Claims']\n",
        "\n",
        "# Store the 'Summary' column in another variable\n",
        "summary = df['Summary']\n",
        "\n",
        "# Create a new DataFrame to store the ROUGE scores\n",
        "rouge_scores_df = pd.DataFrame()\n",
        "\n",
        "# ROUGE\n",
        "rouge_scorer = rouge_scorer.RougeScorer(['rouge1', 'rouge2', 'rougeL'], use_stemmer=True)\n",
        "\n",
        "for i in range(len(abstract_and_claims)):\n",
        "    input_content = abstract_and_claims[i]\n",
        "    reference_summary = summary[i]\n",
        "\n",
        "    # Split input content and reference summary into segments (e.g., paragraphs)\n",
        "    input_segments = input_content.split(\"\\n\")\n",
        "    reference_segments = reference_summary.split(\"\\n\")\n",
        "\n",
        "    # Initialize the scores for this row\n",
        "    row_scores = {}\n",
        "\n",
        "    for input_seg, reference_seg in zip(input_segments, reference_segments):\n",
        "        scores = rouge_scorer.score(input_seg, reference_seg)\n",
        "        for metric, value in scores.items():\n",
        "            if metric not in row_scores:\n",
        "                row_scores[metric] = []\n",
        "            row_scores[metric].append(value.fmeasure)\n",
        "\n",
        "    # Calculate the average scores for this row\n",
        "    num_segments = len(input_segments)\n",
        "    row_scores_avg = {metric: sum(scores) / num_segments for metric, scores in row_scores.items()}\n",
        "\n",
        "    # Convert the row_scores_avg to a DataFrame and append to rouge_scores_df\n",
        "    row_scores_df = pd.DataFrame(row_scores_avg, index=[i])\n",
        "    rouge_scores_df = rouge_scores_df.append(row_scores_df, ignore_index=True)\n",
        "\n",
        "# Merge the original data with the ROUGE scores\n",
        "merged_df = pd.concat([df_subset, rouge_scores_df], axis=1)\n",
        "\n",
        "# Save the scores to a CSV file\n",
        "merged_df.to_csv('rouge_scores_long-t5-tglobal-base.csv', index=False)\n"
      ]
    }
  ],
  "metadata": {
    "colab": {
      "provenance": []
    },
    "kernelspec": {
      "display_name": "Python 3",
      "name": "python3"
    },
    "language_info": {
      "name": "python"
    }
  },
  "nbformat": 4,
  "nbformat_minor": 0
}