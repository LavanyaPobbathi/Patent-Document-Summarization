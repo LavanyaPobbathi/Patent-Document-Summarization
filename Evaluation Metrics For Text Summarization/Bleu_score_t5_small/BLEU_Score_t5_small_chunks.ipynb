{
  "nbformat": 4,
  "nbformat_minor": 0,
  "metadata": {
    "colab": {
      "provenance": []
    },
    "kernelspec": {
      "name": "python3",
      "display_name": "Python 3"
    },
    "language_info": {
      "name": "python"
    }
  },
  "cells": [
    {
      "cell_type": "code",
      "execution_count": 4,
      "metadata": {
        "colab": {
          "base_uri": "https://localhost:8080/"
        },
        "id": "jdGMVf1IdeAe",
        "outputId": "bd7fb2d7-24ac-4882-b7a8-72d47efdc0f0"
      },
      "outputs": [
        {
          "output_type": "stream",
          "name": "stderr",
          "text": [
            "Calculating Scores:   0%|          | 0/50 [00:00<?, ?it/s]/usr/local/lib/python3.10/dist-packages/nltk/translate/bleu_score.py:552: UserWarning: \n",
            "The hypothesis contains 0 counts of 4-gram overlaps.\n",
            "Therefore the BLEU score evaluates to 0, independently of\n",
            "how many N-gram overlaps of lower order it contains.\n",
            "Consider using lower n-gram order or use SmoothingFunction()\n",
            "  warnings.warn(_msg)\n",
            "Calculating Scores: 100%|██████████| 50/50 [00:00<00:00, 2178.54it/s]"
          ]
        },
        {
          "output_type": "stream",
          "name": "stdout",
          "text": [
            "\n",
            "Average BLEU Score: 0.006060238180316998\n"
          ]
        },
        {
          "output_type": "stream",
          "name": "stderr",
          "text": [
            "\n"
          ]
        }
      ],
      "source": [
        "#abstract bleu score\n",
        "\n",
        "from nltk.translate.bleu_score import sentence_bleu, corpus_bleu\n",
        "import pandas as pd\n",
        "from tqdm import tqdm\n",
        "import re\n",
        "\n",
        "# Load the DataFrame from the Excel file\n",
        "input_file = \"Abstract_chunks_Summary_t5_small_score.xlsx\"\n",
        "df = pd.read_excel(input_file)\n",
        "\n",
        "# Define lists to store the scores\n",
        "bleu_scores = []\n",
        "fluency_scores = []\n",
        "accuracy_scores = []\n",
        "readability_scores = []\n",
        "relevance_scores = []\n",
        "novelty_scores = []\n",
        "style_scores = []\n",
        "\n",
        "# Iterate over the rows in the DataFrame with a progress bar\n",
        "for index, row in tqdm(df.iterrows(), total=len(df), desc=\"Calculating Scores\"):\n",
        "    # Get the original text and the generated summary\n",
        "    abstract = row['Abstract']\n",
        "    #claims = row['Claims']\n",
        "\n",
        "    # Clean the abstract and claims text\n",
        "    abstract = re.sub(r'[^\\x00-\\x7F]+', '', str(abstract))\n",
        "    #claims = re.sub(r'[^\\x00-\\x7F]+', '', str(claims))\n",
        "\n",
        "    # Combine the cleaned abstract and claims\n",
        "    original_text = abstract\n",
        "    generated_summary = str(row['Abstract_chunks_Summary_t5_small'])\n",
        "\n",
        "    # Calculate BLEU score\n",
        "    reference = [original_text.split()]\n",
        "    candidate = generated_summary.split()\n",
        "    bleu_score = sentence_bleu(reference, candidate)\n",
        "\n",
        "    # Append the BLEU score\n",
        "    bleu_scores.append(bleu_score)\n",
        "\n",
        "# Add the scores to the DataFrame\n",
        "df['BLEU_Score'] = bleu_scores\n",
        "\n",
        "# Save the updated DataFrame to a new Excel file\n",
        "output_file = \"Summary_Scores_t5_small_Bleu_score_abstract_chunks.xlsx\"\n",
        "df.to_excel(output_file, index=False)\n",
        "\n",
        "# Print the average scores\n",
        "print(\"\\nAverage BLEU Score:\", sum(bleu_scores) / len(bleu_scores))\n"
      ]
    },
    {
      "cell_type": "code",
      "source": [
        "#claims bleu score\n",
        "\n",
        "from nltk.translate.bleu_score import sentence_bleu, corpus_bleu\n",
        "import pandas as pd\n",
        "from tqdm import tqdm\n",
        "import re\n",
        "\n",
        "# Load the DataFrame from the Excel file\n",
        "input_file = \"Claims_chunks_Summary_t5_small_score.xlsx\"\n",
        "df = pd.read_excel(input_file)\n",
        "\n",
        "# Define lists to store the scores\n",
        "bleu_scores = []\n",
        "fluency_scores = []\n",
        "accuracy_scores = []\n",
        "readability_scores = []\n",
        "relevance_scores = []\n",
        "novelty_scores = []\n",
        "style_scores = []\n",
        "\n",
        "# Iterate over the rows in the DataFrame with a progress bar\n",
        "for index, row in tqdm(df.iterrows(), total=len(df), desc=\"Calculating Scores\"):\n",
        "    # Get the original text and the generated summary\n",
        "    #abstract = row['Abstract']\n",
        "    claims = row['Claims']\n",
        "\n",
        "    # Clean the abstract and claims text\n",
        "    #abstract = re.sub(r'[^\\x00-\\x7F]+', '', str(abstract))\n",
        "    claims = re.sub(r'[^\\x00-\\x7F]+', '', str(claims))\n",
        "\n",
        "    # Combine the cleaned abstract and claims\n",
        "    original_text = claims\n",
        "    generated_summary = str(row['Claims_chunks_Summary_t5_small'])\n",
        "\n",
        "    # Calculate BLEU score\n",
        "    reference = [original_text.split()]\n",
        "    candidate = generated_summary.split()\n",
        "    bleu_score = sentence_bleu(reference, candidate)\n",
        "\n",
        "    # Append the BLEU score\n",
        "    bleu_scores.append(bleu_score)\n",
        "\n",
        "# Add the scores to the DataFrame\n",
        "df['BLEU_Score'] = bleu_scores\n",
        "\n",
        "# Save the updated DataFrame to a new Excel file\n",
        "output_file = \"Summary_Scores_t5_small_Bleu_score_claims_chunks.xlsx\"\n",
        "df.to_excel(output_file, index=False)\n",
        "\n",
        "# Print the average scores\n",
        "print(\"\\nAverage BLEU Score:\", sum(bleu_scores) / len(bleu_scores))\n"
      ],
      "metadata": {
        "colab": {
          "base_uri": "https://localhost:8080/"
        },
        "id": "hc0F5YaRn-Un",
        "outputId": "f4add86f-a317-44b1-cebd-00c865ffeb48"
      },
      "execution_count": 5,
      "outputs": [
        {
          "output_type": "stream",
          "name": "stderr",
          "text": [
            "Calculating Scores: 100%|██████████| 50/50 [00:00<00:00, 516.08it/s]"
          ]
        },
        {
          "output_type": "stream",
          "name": "stdout",
          "text": [
            "\n",
            "Average BLEU Score: 1.82019473166657e-10\n"
          ]
        },
        {
          "output_type": "stream",
          "name": "stderr",
          "text": [
            "\n"
          ]
        }
      ]
    },
    {
      "cell_type": "code",
      "source": [
        "#combined bleu score\n",
        "\n",
        "from nltk.translate.bleu_score import sentence_bleu, corpus_bleu\n",
        "import pandas as pd\n",
        "from tqdm import tqdm\n",
        "import re\n",
        "\n",
        "# Load the DataFrame from the Excel file\n",
        "input_file = \"Combined_Google_patent_chunks_Summary_t5_small_score.xlsx\"\n",
        "df = pd.read_excel(input_file)\n",
        "\n",
        "# Define lists to store the scores\n",
        "bleu_scores = []\n",
        "fluency_scores = []\n",
        "accuracy_scores = []\n",
        "readability_scores = []\n",
        "relevance_scores = []\n",
        "novelty_scores = []\n",
        "style_scores = []\n",
        "\n",
        "# Iterate over the rows in the DataFrame with a progress bar\n",
        "for index, row in tqdm(df.iterrows(), total=len(df), desc=\"Calculating Scores\"):\n",
        "    # Get the original text and the generated summary\n",
        "    abstract = row['Abstract_chunks_Summary_t5_small']\n",
        "    claims = row['Claims_chunks_Summary_t5_small']\n",
        "\n",
        "    # Clean the abstract and claims text\n",
        "    abstract = re.sub(r'[^\\x00-\\x7F]+', '', str(abstract))\n",
        "    claims = re.sub(r'[^\\x00-\\x7F]+', '', str(claims))\n",
        "\n",
        "    # Combine the cleaned abstract and claims\n",
        "    original_text = abstract+' '+claims\n",
        "    generated_summary = str(row['Combined_Summary_chunks_t5_small'])\n",
        "\n",
        "    # Calculate BLEU score\n",
        "    reference = [original_text.split()]\n",
        "    candidate = generated_summary.split()\n",
        "    bleu_score = sentence_bleu(reference, candidate)\n",
        "\n",
        "    # Append the BLEU score\n",
        "    bleu_scores.append(bleu_score)\n",
        "\n",
        "# Add the scores to the DataFrame\n",
        "df['BLEU_Score'] = bleu_scores\n",
        "\n",
        "# Save the updated DataFrame to a new Excel file\n",
        "output_file = \"Summary_Scores_t5_small_Bleu_score_combined_chunks.xlsx\"\n",
        "df.to_excel(output_file, index=False)\n",
        "\n",
        "# Print the average scores\n",
        "print(\"\\nAverage BLEU Score:\", sum(bleu_scores) / len(bleu_scores))\n"
      ],
      "metadata": {
        "colab": {
          "base_uri": "https://localhost:8080/"
        },
        "id": "sdL6cwc-oZaq",
        "outputId": "9ab83d45-ee9a-429d-ea14-ab255b680c03"
      },
      "execution_count": 6,
      "outputs": [
        {
          "output_type": "stream",
          "name": "stderr",
          "text": [
            "Calculating Scores:   0%|          | 0/50 [00:00<?, ?it/s]/usr/local/lib/python3.10/dist-packages/nltk/translate/bleu_score.py:552: UserWarning: \n",
            "The hypothesis contains 0 counts of 4-gram overlaps.\n",
            "Therefore the BLEU score evaluates to 0, independently of\n",
            "how many N-gram overlaps of lower order it contains.\n",
            "Consider using lower n-gram order or use SmoothingFunction()\n",
            "  warnings.warn(_msg)\n",
            "Calculating Scores: 100%|██████████| 50/50 [00:00<00:00, 2682.23it/s]"
          ]
        },
        {
          "output_type": "stream",
          "name": "stdout",
          "text": [
            "\n",
            "Average BLEU Score: 0.03965462377575712\n"
          ]
        },
        {
          "output_type": "stream",
          "name": "stderr",
          "text": [
            "\n"
          ]
        }
      ]
    },
    {
      "cell_type": "code",
      "source": [],
      "metadata": {
        "id": "1JdAO1zAg_Qs"
      },
      "execution_count": null,
      "outputs": []
    }
  ]
}