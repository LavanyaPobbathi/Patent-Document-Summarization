{
  "nbformat": 4,
  "nbformat_minor": 0,
  "metadata": {
    "colab": {
      "provenance": []
    },
    "kernelspec": {
      "name": "python3",
      "display_name": "Python 3"
    },
    "language_info": {
      "name": "python"
    }
  },
  "cells": [
    {
      "cell_type": "markdown",
      "source": [
        "SummaC is an evaluation metric designed for assessing summaries of scientific documents. It consists of multiple components and it is not as simple as replacing ROUGE with SummaC. You would need access to the SummaC library or implement it yourself based on the original paper by the authors.\n",
        "\n",
        "Here is a modified version of your code that might work for SummaC scoring if you have access to a SummaC implementation"
      ],
      "metadata": {
        "id": "kFKXYv8CBnZI"
      }
    },
    {
      "cell_type": "markdown",
      "source": [
        "Sure, in order to calculate SummaC scores you will need to use semantic similarity. This requires using embeddings from a model such as BERT. Below is the modified code using BERT embeddings to calculate SummaC scores. Note that you will need to install the transformers and torch libraries before running the code:"
      ],
      "metadata": {
        "id": "1hmd2A7CCkOX"
      }
    },
    {
      "cell_type": "code",
      "source": [
        "!pip install transformers torch"
      ],
      "metadata": {
        "colab": {
          "base_uri": "https://localhost:8080/"
        },
        "id": "r8NG6H5mCji6",
        "outputId": "82390b18-8255-4d29-fdf6-d2e4ecaf4f51"
      },
      "execution_count": null,
      "outputs": [
        {
          "output_type": "stream",
          "name": "stdout",
          "text": [
            "Collecting transformers\n",
            "  Downloading transformers-4.30.2-py3-none-any.whl (7.2 MB)\n",
            "\u001b[?25l     \u001b[90m━━━━━━━━━━━━━━━━━━━━━━━━━━━━━━━━━━━━━━━━\u001b[0m \u001b[32m0.0/7.2 MB\u001b[0m \u001b[31m?\u001b[0m eta \u001b[36m-:--:--\u001b[0m\r\u001b[2K     \u001b[91m━\u001b[0m\u001b[90m╺\u001b[0m\u001b[90m━━━━━━━━━━━━━━━━━━━━━━━━━━━━━━━━━━━━━━\u001b[0m \u001b[32m0.3/7.2 MB\u001b[0m \u001b[31m7.7 MB/s\u001b[0m eta \u001b[36m0:00:01\u001b[0m\r\u001b[2K     \u001b[91m━━━━━━━━━━━━━━━\u001b[0m\u001b[90m╺\u001b[0m\u001b[90m━━━━━━━━━━━━━━━━━━━━━━━━\u001b[0m \u001b[32m2.8/7.2 MB\u001b[0m \u001b[31m39.8 MB/s\u001b[0m eta \u001b[36m0:00:01\u001b[0m\r\u001b[2K     \u001b[91m━━━━━━━━━━━━━━━━━━━━━━━━━━━━━━━━━━━━━━━\u001b[0m\u001b[91m╸\u001b[0m \u001b[32m7.2/7.2 MB\u001b[0m \u001b[31m76.2 MB/s\u001b[0m eta \u001b[36m0:00:01\u001b[0m\r\u001b[2K     \u001b[90m━━━━━━━━━━━━━━━━━━━━━━━━━━━━━━━━━━━━━━━━\u001b[0m \u001b[32m7.2/7.2 MB\u001b[0m \u001b[31m56.0 MB/s\u001b[0m eta \u001b[36m0:00:00\u001b[0m\n",
            "\u001b[?25hRequirement already satisfied: torch in /usr/local/lib/python3.10/dist-packages (2.0.1+cu118)\n",
            "Requirement already satisfied: filelock in /usr/local/lib/python3.10/dist-packages (from transformers) (3.12.2)\n",
            "Collecting huggingface-hub<1.0,>=0.14.1 (from transformers)\n",
            "  Downloading huggingface_hub-0.15.1-py3-none-any.whl (236 kB)\n",
            "\u001b[2K     \u001b[90m━━━━━━━━━━━━━━━━━━━━━━━━━━━━━━━━━━━━━━\u001b[0m \u001b[32m236.8/236.8 kB\u001b[0m \u001b[31m24.9 MB/s\u001b[0m eta \u001b[36m0:00:00\u001b[0m\n",
            "\u001b[?25hRequirement already satisfied: numpy>=1.17 in /usr/local/lib/python3.10/dist-packages (from transformers) (1.22.4)\n",
            "Requirement already satisfied: packaging>=20.0 in /usr/local/lib/python3.10/dist-packages (from transformers) (23.1)\n",
            "Requirement already satisfied: pyyaml>=5.1 in /usr/local/lib/python3.10/dist-packages (from transformers) (6.0)\n",
            "Requirement already satisfied: regex!=2019.12.17 in /usr/local/lib/python3.10/dist-packages (from transformers) (2022.10.31)\n",
            "Requirement already satisfied: requests in /usr/local/lib/python3.10/dist-packages (from transformers) (2.27.1)\n",
            "Collecting tokenizers!=0.11.3,<0.14,>=0.11.1 (from transformers)\n",
            "  Downloading tokenizers-0.13.3-cp310-cp310-manylinux_2_17_x86_64.manylinux2014_x86_64.whl (7.8 MB)\n",
            "\u001b[2K     \u001b[90m━━━━━━━━━━━━━━━━━━━━━━━━━━━━━━━━━━━━━━━━\u001b[0m \u001b[32m7.8/7.8 MB\u001b[0m \u001b[31m90.9 MB/s\u001b[0m eta \u001b[36m0:00:00\u001b[0m\n",
            "\u001b[?25hCollecting safetensors>=0.3.1 (from transformers)\n",
            "  Downloading safetensors-0.3.1-cp310-cp310-manylinux_2_17_x86_64.manylinux2014_x86_64.whl (1.3 MB)\n",
            "\u001b[2K     \u001b[90m━━━━━━━━━━━━━━━━━━━━━━━━━━━━━━━━━━━━━━━━\u001b[0m \u001b[32m1.3/1.3 MB\u001b[0m \u001b[31m75.5 MB/s\u001b[0m eta \u001b[36m0:00:00\u001b[0m\n",
            "\u001b[?25hRequirement already satisfied: tqdm>=4.27 in /usr/local/lib/python3.10/dist-packages (from transformers) (4.65.0)\n",
            "Requirement already satisfied: typing-extensions in /usr/local/lib/python3.10/dist-packages (from torch) (4.6.3)\n",
            "Requirement already satisfied: sympy in /usr/local/lib/python3.10/dist-packages (from torch) (1.11.1)\n",
            "Requirement already satisfied: networkx in /usr/local/lib/python3.10/dist-packages (from torch) (3.1)\n",
            "Requirement already satisfied: jinja2 in /usr/local/lib/python3.10/dist-packages (from torch) (3.1.2)\n",
            "Requirement already satisfied: triton==2.0.0 in /usr/local/lib/python3.10/dist-packages (from torch) (2.0.0)\n",
            "Requirement already satisfied: cmake in /usr/local/lib/python3.10/dist-packages (from triton==2.0.0->torch) (3.25.2)\n",
            "Requirement already satisfied: lit in /usr/local/lib/python3.10/dist-packages (from triton==2.0.0->torch) (16.0.6)\n",
            "Requirement already satisfied: fsspec in /usr/local/lib/python3.10/dist-packages (from huggingface-hub<1.0,>=0.14.1->transformers) (2023.6.0)\n",
            "Requirement already satisfied: MarkupSafe>=2.0 in /usr/local/lib/python3.10/dist-packages (from jinja2->torch) (2.1.3)\n",
            "Requirement already satisfied: urllib3<1.27,>=1.21.1 in /usr/local/lib/python3.10/dist-packages (from requests->transformers) (1.26.16)\n",
            "Requirement already satisfied: certifi>=2017.4.17 in /usr/local/lib/python3.10/dist-packages (from requests->transformers) (2023.5.7)\n",
            "Requirement already satisfied: charset-normalizer~=2.0.0 in /usr/local/lib/python3.10/dist-packages (from requests->transformers) (2.0.12)\n",
            "Requirement already satisfied: idna<4,>=2.5 in /usr/local/lib/python3.10/dist-packages (from requests->transformers) (3.4)\n",
            "Requirement already satisfied: mpmath>=0.19 in /usr/local/lib/python3.10/dist-packages (from sympy->torch) (1.3.0)\n",
            "Installing collected packages: tokenizers, safetensors, huggingface-hub, transformers\n",
            "Successfully installed huggingface-hub-0.15.1 safetensors-0.3.1 tokenizers-0.13.3 transformers-4.30.2\n"
          ]
        }
      ]
    },
    {
      "cell_type": "markdown",
      "source": [
        "In the context of cosine similarity, which is often used as a measure of semantic similarity (and is used in the SummaC Score in the code provided), the values range from -1 to 1, where:\n",
        "\n",
        "1 means that the vectors are identical,\n",
        "\n",
        "0 means that the vectors are orthogonal (not similar),\n",
        "\n",
        "-1 means that the vectors are diametrically opposed (completely dissimilar).\n",
        "An Average SummaC Score of 0.9455185 is quite high, as it is close to 1. This suggests that the generated summaries are semantically very similar to the original texts, which is generally a good indication of summary quality.\n",
        "\n",
        "However, it's important to keep in mind that while cosine similarity can be a useful metric for capturing semantic similarity, it's not always perfect and can sometimes fail to capture nuanced differences between texts. Moreover, SummaC score might not capture other aspects of summary quality such as coherence and informativeness to the same extent as metrics like ROUGE. Therefore, it is often good practice to use a combination of different metrics to evaluate the quality of text summaries."
      ],
      "metadata": {
        "id": "8IfPnRqGJabE"
      }
    },
    {
      "cell_type": "markdown",
      "source": [
        "#### Below code was executed in server. So, attached the output scores and uploaded the output files in sharepoint link."
      ],
      "metadata": {
        "id": "C1wpXuml5VDN"
      }
    },
    {
      "cell_type": "code",
      "source": [
        "import pandas as pd\n",
        "from tqdm import tqdm\n",
        "import torch\n",
        "import re\n",
        "import numpy as np\n",
        "from transformers import BertTokenizer, BertModel\n",
        "from sklearn.metrics.pairwise import cosine_similarity\n",
        "\n",
        "# Load the DataFrame from the Excel file\n",
        "input_file = \"Abstract_Summary_t5_base_file.xlsx\"\n",
        "df = pd.read_excel(input_file)\n",
        "\n",
        "# Define a list to store SummaC scores\n",
        "summac_scores = []\n",
        "\n",
        "# Initialize BERT model\n",
        "tokenizer = BertTokenizer.from_pretrained('bert-base-uncased')\n",
        "model = BertModel.from_pretrained('bert-base-uncased')\n",
        "\n",
        "# Set device to GPU if available\n",
        "device = torch.device(\"cuda\" if torch.cuda.is_available() else \"cpu\")\n",
        "model.to(device)\n",
        "\n",
        "# Function to calculate BERT embeddings\n",
        "def get_bert_embeddings(text):\n",
        "    inputs = tokenizer(text, return_tensors=\"pt\", max_length=512, truncation=True).to(device)\n",
        "    outputs = model(**inputs)\n",
        "    return outputs['last_hidden_state'].mean(dim=1).cpu().detach().numpy()\n",
        "\n",
        "# Iterate over the rows in the DataFrame with a progress bar\n",
        "for index, row in tqdm(df.iterrows(), total=len(df), desc=\"Calculating Scores\"):\n",
        "    # Get the original text and the generated summary\n",
        "    abstract = row['Abstract']\n",
        "    generated_summary = str(row['Abstract_Summary_t5_base'])\n",
        "\n",
        "    # Clean the abstract text\n",
        "    abstract = re.sub(r'[^\\x00-\\x7F]+', '', str(abstract))\n",
        "\n",
        "    # Get embeddings for original text and generated summary\n",
        "    original_text_embedding = get_bert_embeddings(abstract)\n",
        "    generated_summary_embedding = get_bert_embeddings(generated_summary)\n",
        "\n",
        "    # Calculate cosine similarity between embeddings\n",
        "    cos_sim = cosine_similarity(original_text_embedding, generated_summary_embedding)[0][0]\n",
        "\n",
        "    # Append SummaC score to the list\n",
        "    summac_scores.append(cos_sim)\n",
        "\n",
        "# Add the scores to the DataFrame\n",
        "df['SummaC_Score'] = summac_scores\n",
        "\n",
        "# Save the updated DataFrame to a new Excel file\n",
        "output_file = \"Summary_Scores_SummaC_t5_base_abstract_total.xlsx\"\n",
        "df.to_excel(output_file, index=False)\n",
        "\n",
        "# Print the average scores\n",
        "print(\"Average SummaC Score:\", np.mean(summac_scores))\n"
      ],
      "metadata": {
        "id": "gqfGpmCSBowF"
      },
      "execution_count": null,
      "outputs": []
    },
    {
      "cell_type": "markdown",
      "source": [
        "Output:\n",
        "\n",
        "![image.png](data:image/png;base64,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)"
      ],
      "metadata": {
        "id": "AG3IepeB5pnF"
      }
    },
    {
      "cell_type": "code",
      "source": [
        "import pandas as pd\n",
        "from tqdm import tqdm\n",
        "import torch\n",
        "import re\n",
        "import numpy as np\n",
        "from transformers import BertTokenizer, BertModel\n",
        "from sklearn.metrics.pairwise import cosine_similarity\n",
        "\n",
        "# Load the DataFrame from the Excel file\n",
        "input_file = \"Claims_Summary_t5_base_file.xlsx\"\n",
        "df = pd.read_excel(input_file)\n",
        "\n",
        "# Define a list to store SummaC scores\n",
        "summac_scores = []\n",
        "\n",
        "# Initialize BERT model\n",
        "tokenizer = BertTokenizer.from_pretrained('bert-base-uncased')\n",
        "model = BertModel.from_pretrained('bert-base-uncased')\n",
        "\n",
        "# Set device to GPU if available\n",
        "device = torch.device(\"cuda\" if torch.cuda.is_available() else \"cpu\")\n",
        "model.to(device)\n",
        "\n",
        "# Function to calculate BERT embeddings\n",
        "def get_bert_embeddings(text):\n",
        "    inputs = tokenizer(text, return_tensors=\"pt\", max_length=512, truncation=True).to(device)\n",
        "    outputs = model(**inputs)\n",
        "    return outputs['last_hidden_state'].mean(dim=1).cpu().detach().numpy()\n",
        "\n",
        "# Iterate over the rows in the DataFrame with a progress bar\n",
        "for index, row in tqdm(df.iterrows(), total=len(df), desc=\"Calculating Scores\"):\n",
        "    # Get the original text and the generated summary\n",
        "    abstract = row['Claims']\n",
        "    generated_summary = str(row['Claims_Summary_t5_base'])\n",
        "\n",
        "    # Clean the abstract text\n",
        "    abstract = re.sub(r'[^\\x00-\\x7F]+', '', str(abstract))\n",
        "\n",
        "    # Get embeddings for original text and generated summary\n",
        "    original_text_embedding = get_bert_embeddings(abstract)\n",
        "    generated_summary_embedding = get_bert_embeddings(generated_summary)\n",
        "\n",
        "    # Calculate cosine similarity between embeddings\n",
        "    cos_sim = cosine_similarity(original_text_embedding, generated_summary_embedding)[0][0]\n",
        "\n",
        "    # Append SummaC score to the list\n",
        "    summac_scores.append(cos_sim)\n",
        "\n",
        "# Add the scores to the DataFrame\n",
        "df['SummaC_Score'] = summac_scores\n",
        "\n",
        "# Save the updated DataFrame to a new Excel file\n",
        "output_file = \"Summary_Scores_SummaC_t5_base_claims_total.xlsx\"\n",
        "df.to_excel(output_file, index=False)\n",
        "\n",
        "# Print the average scores\n",
        "print(\"Average SummaC Score:\", np.mean(summac_scores))\n"
      ],
      "metadata": {
        "id": "YM0tOojAJe6D"
      },
      "execution_count": null,
      "outputs": []
    },
    {
      "cell_type": "markdown",
      "source": [
        "Output:\n",
        "\n",
        "![image.png](data:image/png;base64,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)"
      ],
      "metadata": {
        "id": "TJzgUEur6Esx"
      }
    },
    {
      "cell_type": "code",
      "source": [
        "import pandas as pd\n",
        "from tqdm import tqdm\n",
        "import torch\n",
        "import re\n",
        "import numpy as np\n",
        "from transformers import BertTokenizer, BertModel\n",
        "from sklearn.metrics.pairwise import cosine_similarity\n",
        "\n",
        "# Load the DataFrame from the Excel file\n",
        "input_file = \"Combined_Google_patent_Summary_t5_base_file.xlsx\"\n",
        "df = pd.read_excel(input_file)\n",
        "\n",
        "# Define a list to store SummaC scores\n",
        "summac_scores = []\n",
        "\n",
        "# Initialize BERT model\n",
        "tokenizer = BertTokenizer.from_pretrained('bert-base-uncased')\n",
        "model = BertModel.from_pretrained('bert-base-uncased')\n",
        "\n",
        "# Set device to GPU if available\n",
        "device = torch.device(\"cuda\" if torch.cuda.is_available() else \"cpu\")\n",
        "model.to(device)\n",
        "\n",
        "# Function to calculate BERT embeddings\n",
        "def get_bert_embeddings(text):\n",
        "    inputs = tokenizer(text, return_tensors=\"pt\", max_length=512, truncation=True).to(device)\n",
        "    outputs = model(**inputs)\n",
        "    return outputs['last_hidden_state'].mean(dim=1).cpu().detach().numpy()\n",
        "\n",
        "# Iterate over the rows in the DataFrame with a progress bar\n",
        "for index, row in tqdm(df.iterrows(), total=len(df), desc=\"Calculating Scores\"):\n",
        "    # Get the abstract summary, claims summary, and generated summary\n",
        "    abstract_summary = str(row['Abstract_Summary_t5_base'])\n",
        "    claims_summary = str(row['Claims_Summary_t5_base'])\n",
        "    generated_summary = str(row['Combined_Summary'])\n",
        "\n",
        "    # Combine the abstract summary and claims summary\n",
        "    original_text = abstract_summary + \" \" + claims_summary\n",
        "\n",
        "    # Clean the combined summary text\n",
        "    original_text = re.sub(r'[^\\x00-\\x7F]+', '', original_text)\n",
        "    generated_summary = re.sub(r'[^\\x00-\\x7F]+', '', generated_summary)\n",
        "\n",
        "    # Get embeddings for original text and generated summary\n",
        "    original_text_embedding = get_bert_embeddings(original_text)\n",
        "    generated_summary_embedding = get_bert_embeddings(generated_summary)\n",
        "\n",
        "    # Calculate cosine similarity between embeddings\n",
        "    cos_sim = cosine_similarity(original_text_embedding, generated_summary_embedding)[0][0]\n",
        "\n",
        "    # Append SummaC score to the list\n",
        "    summac_scores.append(cos_sim)\n",
        "\n",
        "# Add the scores to the DataFrame\n",
        "df['SummaC_Score'] = summac_scores\n",
        "\n",
        "# Save the updated DataFrame to a new Excel file\n",
        "output_file = \"Summary_Scores_SummaC_t5_base_combined_total.xlsx\"\n",
        "df.to_excel(output_file, index=False)\n",
        "\n",
        "# Print the average scores\n",
        "print(\"Average SummaC Score:\", np.mean(summac_scores))\n"
      ],
      "metadata": {
        "id": "Fihq1-Ll7qWL"
      },
      "execution_count": null,
      "outputs": []
    },
    {
      "cell_type": "markdown",
      "source": [
        "Output:\n",
        "\n",
        "![image.png](data:image/png;base64,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)"
      ],
      "metadata": {
        "id": "2phOaURD8Kb4"
      }
    },
    {
      "cell_type": "code",
      "source": [],
      "metadata": {
        "id": "hzGBhd_x8Xdd"
      },
      "execution_count": null,
      "outputs": []
    }
  ]
}