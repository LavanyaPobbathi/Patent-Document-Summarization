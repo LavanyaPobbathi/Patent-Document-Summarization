{
  "nbformat": 4,
  "nbformat_minor": 0,
  "metadata": {
    "colab": {
      "provenance": []
    },
    "kernelspec": {
      "name": "python3",
      "display_name": "Python 3"
    },
    "language_info": {
      "name": "python"
    }
  },
  "cells": [
    {
      "cell_type": "code",
      "source": [
        "####  Abstract Rogue Score\n",
        "from rouge import Rouge\n",
        "import pandas as pd\n",
        "from tqdm import tqdm\n",
        "import torch\n",
        "import re\n",
        "\n",
        "# Load the DataFrame from the Excel file\n",
        "input_file = \"abstract_summary_t5-small_Score.xlsx\"\n",
        "df = pd.read_excel(input_file)\n",
        "\n",
        "# Create a Rouge object\n",
        "rouge = Rouge()\n",
        "\n",
        "# Define lists to store the overlap, coherence, and informativeness scores\n",
        "overlap_scores = []\n",
        "coherence_scores = []\n",
        "informativeness_scores = []\n",
        "\n",
        "# Set device to GPU if available\n",
        "device = torch.device(\"cuda\" if torch.cuda.is_available() else \"cpu\")\n",
        "\n",
        "# Iterate over the rows in the DataFrame with a progress bar\n",
        "for index, row in tqdm(df.iterrows(), total=len(df), desc=\"Calculating Scores\"):\n",
        "    # Get the original text and the generated summary\n",
        "    abstract = row['Abstract']\n",
        "\n",
        "    # Clean the abstract and claims text\n",
        "    abstract = re.sub(r'[^\\x00-\\x7F]+', '', str(abstract))\n",
        "\n",
        "    # Combine the cleaned abstract and claims\n",
        "    original_text = abstract\n",
        "    generated_summary = str(row['Abstract_Summary'])\n",
        "\n",
        "    # Calculate ROUGE scores\n",
        "    scores = rouge.get_scores(generated_summary, original_text)\n",
        "\n",
        "    # Extract the relevant scores\n",
        "    overlap_score = scores[0]['rouge-1']['f']\n",
        "    coherence_score = scores[0]['rouge-2']['f']\n",
        "    informativeness_score = scores[0]['rouge-l']['f']\n",
        "\n",
        "    # Append the scores to the respective lists\n",
        "    overlap_scores.append(overlap_score)\n",
        "    coherence_scores.append(coherence_score)\n",
        "    informativeness_scores.append(informativeness_score)\n",
        "\n",
        "# Add the scores to the DataFrame\n",
        "df['Overlap_Score'] = overlap_scores\n",
        "df['Coherence_Score'] = coherence_scores\n",
        "df['Informativeness_Score'] = informativeness_scores\n",
        "\n",
        "# Save the updated DataFrame to a new Excel file\n",
        "output_file = \"Summary_Scores_hupd_Rouge_score_t5_small.xlsx\"\n",
        "df.to_excel(output_file, index=False)\n",
        "\n",
        "# Print the average scores\n",
        "print(\"Average Overlap Score:\", sum(overlap_scores) / len(overlap_scores))\n",
        "print(\"Average Coherence Score:\", sum(coherence_scores) / len(coherence_scores))\n",
        "print(\"Average Informativeness Score:\", sum(informativeness_scores) / len(informativeness_scores))"
      ],
      "metadata": {
        "colab": {
          "base_uri": "https://localhost:8080/"
        },
        "id": "0xJP6KUpcvTr",
        "outputId": "3b739177-e767-4747-ae4f-e30091f5f011"
      },
      "execution_count": null,
      "outputs": [
        {
          "output_type": "stream",
          "name": "stderr",
          "text": [
            "Calculating Scores: 100%|██████████| 50/50 [00:00<00:00, 103.23it/s]\n"
          ]
        },
        {
          "output_type": "stream",
          "name": "stdout",
          "text": [
            "Average Overlap Score: 0.8536247705831543\n",
            "Average Coherence Score: 0.7971677827298574\n",
            "Average Informativeness Score: 0.8529513699097536\n"
          ]
        }
      ]
    },
    {
      "cell_type": "code",
      "source": [
        "#### Claims Rogue Score\n",
        "from rouge import Rouge\n",
        "import pandas as pd\n",
        "from tqdm import tqdm\n",
        "import torch\n",
        "import re\n",
        "\n",
        "# Load the DataFrame from the Excel file\n",
        "input_file = \"claim_summary_t5-small_score.xlsx\"\n",
        "df = pd.read_excel(input_file)\n",
        "\n",
        "# Create a Rouge object\n",
        "rouge = Rouge()\n",
        "\n",
        "# Define lists to store the overlap, coherence, and informativeness scores\n",
        "overlap_scores = []\n",
        "coherence_scores = []\n",
        "informativeness_scores = []\n",
        "\n",
        "# Set device to GPU if available\n",
        "device = torch.device(\"cuda\" if torch.cuda.is_available() else \"cpu\")\n",
        "\n",
        "# Iterate over the rows in the DataFrame with a progress bar\n",
        "for index, row in tqdm(df.iterrows(), total=len(df), desc=\"Calculating Scores\"):\n",
        "    # Get the original text and the generated summary\n",
        "    claim = row['Claims']\n",
        "\n",
        "    # Clean the abstract and claims text\n",
        "    claims = re.sub(r'[^\\x00-\\x7F]+', '', str(claim))\n",
        "\n",
        "    # Combine the cleaned abstract and claims\n",
        "    original_text = claims\n",
        "    generated_summary = str(row['claim_Summary'])\n",
        "\n",
        "    # Calculate ROUGE scores\n",
        "    scores = rouge.get_scores(generated_summary, original_text)\n",
        "\n",
        "    # Extract the relevant scores\n",
        "    overlap_score = scores[0]['rouge-1']['f']\n",
        "    coherence_score = scores[0]['rouge-2']['f']\n",
        "    informativeness_score = scores[0]['rouge-l']['f']\n",
        "\n",
        "    # Append the scores to the respective lists\n",
        "    overlap_scores.append(overlap_score)\n",
        "    coherence_scores.append(coherence_score)\n",
        "    informativeness_scores.append(informativeness_score)\n",
        "\n",
        "# Add the scores to the DataFrame\n",
        "df['Overlap_Score'] = overlap_scores\n",
        "df['Coherence_Score'] = coherence_scores\n",
        "df['Informativeness_Score'] = informativeness_scores\n",
        "\n",
        "# Save the updated DataFrame to a new Excel file\n",
        "output_file = \"Summary_Scores_hupd_Rouge_score_t5_small_Claims.xlsx\"\n",
        "df.to_excel(output_file, index=False)\n",
        "\n",
        "# Print the average scores\n",
        "print(\"Average Overlap Score:\", sum(overlap_scores) / len(overlap_scores))\n",
        "print(\"Average Coherence Score:\", sum(coherence_scores) / len(coherence_scores))\n",
        "print(\"Average Informativeness Score:\", sum(informativeness_scores) / len(informativeness_scores))"
      ],
      "metadata": {
        "colab": {
          "base_uri": "https://localhost:8080/"
        },
        "id": "nbfKUJdzWBEe",
        "outputId": "c1165d26-9beb-4721-9222-b86efbdc72b3"
      },
      "execution_count": null,
      "outputs": [
        {
          "output_type": "stream",
          "name": "stderr",
          "text": [
            "Calculating Scores: 100%|██████████| 50/50 [00:05<00:00,  8.78it/s]\n"
          ]
        },
        {
          "output_type": "stream",
          "name": "stdout",
          "text": [
            "Average Overlap Score: 0.4189472619990051\n",
            "Average Coherence Score: 0.2822029238836199\n",
            "Average Informativeness Score: 0.41558759663278866\n"
          ]
        }
      ]
    },
    {
      "cell_type": "code",
      "source": [
        "#### Combined summary Rogue Score\n",
        "from rouge import Rouge\n",
        "import pandas as pd\n",
        "from tqdm import tqdm\n",
        "import torch\n",
        "import re\n",
        "\n",
        "# Load the DataFrame from the Excel file\n",
        "input_file = \"Combined_Google_patent_Summary_t5_small_Score.xlsx\"\n",
        "df = pd.read_excel(input_file)\n",
        "\n",
        "# Create a Rouge object\n",
        "rouge = Rouge()\n",
        "\n",
        "# Define lists to store the overlap, coherence, and informativeness scores\n",
        "overlap_scores = []\n",
        "coherence_scores = []\n",
        "informativeness_scores = []\n",
        "\n",
        "# Set device to GPU if available\n",
        "device = torch.device(\"cuda\" if torch.cuda.is_available() else \"cpu\")\n",
        "\n",
        "# Iterate over the rows in the DataFrame with a progress bar\n",
        "for index, row in tqdm(df.iterrows(), total=len(df), desc=\"Calculating Scores\"):\n",
        "    # Get the original text and the generated summary\n",
        "    abstract = row['Abstract_Summary']\n",
        "    claim = row['claim_Summary']\n",
        "\n",
        "    # Clean the abstract and claims text\n",
        "    abstract = re.sub(r'[^\\x00-\\x7F]+', '', str(abstract))\n",
        "    claims = re.sub(r'[^\\x00-\\x7F]+', '', str(claim))\n",
        "\n",
        "    # Combine the cleaned abstract and claims\n",
        "    original_text = abstract+' '+claims\n",
        "    generated_summary = str(row['Combined_Summary'])\n",
        "\n",
        "    # Calculate ROUGE scores\n",
        "    scores = rouge.get_scores(generated_summary, original_text)\n",
        "\n",
        "    # Extract the relevant scores\n",
        "    overlap_score = scores[0]['rouge-1']['f']\n",
        "    coherence_score = scores[0]['rouge-2']['f']\n",
        "    informativeness_score = scores[0]['rouge-l']['f']\n",
        "\n",
        "    # Append the scores to the respective lists\n",
        "    overlap_scores.append(overlap_score)\n",
        "    coherence_scores.append(coherence_score)\n",
        "    informativeness_scores.append(informativeness_score)\n",
        "\n",
        "# Add the scores to the DataFrame\n",
        "df['Overlap_Score'] = overlap_scores\n",
        "df['Coherence_Score'] = coherence_scores\n",
        "df['Informativeness_Score'] = informativeness_scores\n",
        "\n",
        "# Save the updated DataFrame to a new Excel file\n",
        "output_file = \"Summary_Scores_hupd_Rouge_score_t5_small_Combined_Summary.xlsx\"\n",
        "df.to_excel(output_file, index=False)\n",
        "\n",
        "# Print the average scores\n",
        "print(\"Average Overlap Score:\", sum(overlap_scores) / len(overlap_scores))\n",
        "print(\"Average Coherence Score:\", sum(coherence_scores) / len(coherence_scores))\n",
        "print(\"Average Informativeness Score:\", sum(informativeness_scores) / len(informativeness_scores))"
      ],
      "metadata": {
        "colab": {
          "base_uri": "https://localhost:8080/"
        },
        "id": "zc2QEOBiYMfi",
        "outputId": "5a9dbd1f-c26e-459e-f5c4-817f96361a37"
      },
      "execution_count": 3,
      "outputs": [
        {
          "output_type": "stream",
          "name": "stderr",
          "text": [
            "Calculating Scores: 100%|██████████| 50/50 [00:00<00:00, 73.33it/s]"
          ]
        },
        {
          "output_type": "stream",
          "name": "stdout",
          "text": [
            "Average Overlap Score: 0.7876348067876046\n",
            "Average Coherence Score: 0.7096085747458514\n",
            "Average Informativeness Score: 0.786001451160289\n"
          ]
        },
        {
          "output_type": "stream",
          "name": "stderr",
          "text": [
            "\n"
          ]
        }
      ]
    },
    {
      "cell_type": "code",
      "source": [
        "from google.colab import drive\n",
        "drive.mount('/content/drive')"
      ],
      "metadata": {
        "colab": {
          "base_uri": "https://localhost:8080/"
        },
        "id": "5kFtbhevU5QC",
        "outputId": "b8a75193-fb4e-438e-b8b2-23231b4fc890"
      },
      "execution_count": null,
      "outputs": [
        {
          "output_type": "stream",
          "name": "stdout",
          "text": [
            "Mounted at /content/drive\n"
          ]
        }
      ]
    },
    {
      "cell_type": "code",
      "source": [
        "!pip install rouge"
      ],
      "metadata": {
        "colab": {
          "base_uri": "https://localhost:8080/"
        },
        "id": "7lSrDAOnUmQi",
        "outputId": "9aa49d2e-9bfb-45fc-cd53-328769755025"
      },
      "execution_count": 1,
      "outputs": [
        {
          "output_type": "stream",
          "name": "stdout",
          "text": [
            "Looking in indexes: https://pypi.org/simple, https://us-python.pkg.dev/colab-wheels/public/simple/\n",
            "Collecting rouge\n",
            "  Downloading rouge-1.0.1-py3-none-any.whl (13 kB)\n",
            "Requirement already satisfied: six in /usr/local/lib/python3.10/dist-packages (from rouge) (1.16.0)\n",
            "Installing collected packages: rouge\n",
            "Successfully installed rouge-1.0.1\n"
          ]
        }
      ]
    },
    {
      "cell_type": "code",
      "source": [],
      "metadata": {
        "id": "YZVvfOtSk1Tq"
      },
      "execution_count": null,
      "outputs": []
    }
  ]
}