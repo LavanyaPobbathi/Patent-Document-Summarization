{
  "nbformat": 4,
  "nbformat_minor": 0,
  "metadata": {
    "colab": {
      "provenance": []
    },
    "kernelspec": {
      "name": "python3",
      "display_name": "Python 3"
    },
    "language_info": {
      "name": "python"
    }
  },
  "cells": [
    {
      "cell_type": "code",
      "execution_count": 2,
      "metadata": {
        "colab": {
          "base_uri": "https://localhost:8080/"
        },
        "id": "7udzdPxLbOkR",
        "outputId": "3bec1146-2d04-4f9f-8872-b41ab7cf8973"
      },
      "outputs": [
        {
          "output_type": "stream",
          "name": "stderr",
          "text": [
            "Calculating Scores: 100%|██████████| 50/50 [00:00<00:00, 186.05it/s]"
          ]
        },
        {
          "output_type": "stream",
          "name": "stdout",
          "text": [
            "Average Overlap Score: 0.33585818115447497\n",
            "Average Coherence Score: 0.22075952470367072\n",
            "Average Informativeness Score: 0.33167132807211813\n"
          ]
        },
        {
          "output_type": "stream",
          "name": "stderr",
          "text": [
            "\n"
          ]
        }
      ],
      "source": [
        "####  Abstract Rogue Score\n",
        "from rouge import Rouge\n",
        "import pandas as pd\n",
        "from tqdm import tqdm\n",
        "import torch\n",
        "import re\n",
        "\n",
        "# Load the DataFrame from the Excel file\n",
        "input_file = \"Abstract_chunks_Summary_t5_small_score.xlsx\"\n",
        "df = pd.read_excel(input_file)\n",
        "\n",
        "# Create a Rouge object\n",
        "rouge = Rouge()\n",
        "\n",
        "# Define lists to store the overlap, coherence, and informativeness scores\n",
        "overlap_scores = []\n",
        "coherence_scores = []\n",
        "informativeness_scores = []\n",
        "\n",
        "# Set device to GPU if available\n",
        "device = torch.device(\"cuda\" if torch.cuda.is_available() else \"cpu\")\n",
        "\n",
        "# Iterate over the rows in the DataFrame with a progress bar\n",
        "for index, row in tqdm(df.iterrows(), total=len(df), desc=\"Calculating Scores\"):\n",
        "    # Get the original text and the generated summary\n",
        "    abstract = row['Abstract']\n",
        "\n",
        "    # Clean the abstract and claims text\n",
        "    abstract = re.sub(r'[^\\x00-\\x7F]+', '', str(abstract))\n",
        "\n",
        "    # Combine the cleaned abstract and claims\n",
        "    original_text = abstract\n",
        "    generated_summary = str(row['Abstract_chunks_Summary_t5_small'])\n",
        "\n",
        "    # Calculate ROUGE scores\n",
        "    scores = rouge.get_scores(generated_summary, original_text)\n",
        "\n",
        "    # Extract the relevant scores\n",
        "    overlap_score = scores[0]['rouge-1']['f']\n",
        "    coherence_score = scores[0]['rouge-2']['f']\n",
        "    informativeness_score = scores[0]['rouge-l']['f']\n",
        "\n",
        "    # Append the scores to the respective lists\n",
        "    overlap_scores.append(overlap_score)\n",
        "    coherence_scores.append(coherence_score)\n",
        "    informativeness_scores.append(informativeness_score)\n",
        "\n",
        "# Add the scores to the DataFrame\n",
        "df['Overlap_Score'] = overlap_scores\n",
        "df['Coherence_Score'] = coherence_scores\n",
        "df['Informativeness_Score'] = informativeness_scores\n",
        "\n",
        "# Save the updated DataFrame to a new Excel file\n",
        "output_file = \"Summary_Scores_hupd_Rouge_score_t5_small_Chunks.xlsx\"\n",
        "df.to_excel(output_file, index=False)\n",
        "\n",
        "# Print the average scores\n",
        "print(\"Average Overlap Score:\", sum(overlap_scores) / len(overlap_scores))\n",
        "print(\"Average Coherence Score:\", sum(coherence_scores) / len(coherence_scores))\n",
        "print(\"Average Informativeness Score:\", sum(informativeness_scores) / len(informativeness_scores))"
      ]
    },
    {
      "cell_type": "code",
      "source": [
        "#### Claims Rogue Score\n",
        "from rouge import Rouge\n",
        "import pandas as pd\n",
        "from tqdm import tqdm\n",
        "import torch\n",
        "import re\n",
        "\n",
        "# Load the DataFrame from the Excel file\n",
        "input_file = \"Claims_chunks_Summary_t5_small_score.xlsx\"\n",
        "df = pd.read_excel(input_file)\n",
        "\n",
        "# Create a Rouge object\n",
        "rouge = Rouge()\n",
        "\n",
        "# Define lists to store the overlap, coherence, and informativeness scores\n",
        "overlap_scores = []\n",
        "coherence_scores = []\n",
        "informativeness_scores = []\n",
        "\n",
        "# Set device to GPU if available\n",
        "device = torch.device(\"cuda\" if torch.cuda.is_available() else \"cpu\")\n",
        "\n",
        "# Iterate over the rows in the DataFrame with a progress bar\n",
        "for index, row in tqdm(df.iterrows(), total=len(df), desc=\"Calculating Scores\"):\n",
        "    # Get the original text and the generated summary\n",
        "    claim = row['Claims']\n",
        "\n",
        "    # Clean the abstract and claims text\n",
        "    claims = re.sub(r'[^\\x00-\\x7F]+', '', str(claim))\n",
        "\n",
        "    # Combine the cleaned abstract and claims\n",
        "    original_text = claims\n",
        "    generated_summary = str(row['Claims_chunks_Summary_t5_small'])\n",
        "\n",
        "    # Calculate ROUGE scores\n",
        "    scores = rouge.get_scores(generated_summary, original_text)\n",
        "\n",
        "    # Extract the relevant scores\n",
        "    overlap_score = scores[0]['rouge-1']['f']\n",
        "    coherence_score = scores[0]['rouge-2']['f']\n",
        "    informativeness_score = scores[0]['rouge-l']['f']\n",
        "\n",
        "    # Append the scores to the respective lists\n",
        "    overlap_scores.append(overlap_score)\n",
        "    coherence_scores.append(coherence_score)\n",
        "    informativeness_scores.append(informativeness_score)\n",
        "\n",
        "# Add the scores to the DataFrame\n",
        "df['Overlap_Score'] = overlap_scores\n",
        "df['Coherence_Score'] = coherence_scores\n",
        "df['Informativeness_Score'] = informativeness_scores\n",
        "\n",
        "# Save the updated DataFrame to a new Excel file\n",
        "output_file = \"Summary_Scores_hupd_Rouge_score_t5_small_Claims_chunks.xlsx\"\n",
        "df.to_excel(output_file, index=False)\n",
        "\n",
        "# Print the average scores\n",
        "print(\"Average Overlap Score:\", sum(overlap_scores) / len(overlap_scores))\n",
        "print(\"Average Coherence Score:\", sum(coherence_scores) / len(coherence_scores))\n",
        "print(\"Average Informativeness Score:\", sum(informativeness_scores) / len(informativeness_scores))"
      ],
      "metadata": {
        "colab": {
          "base_uri": "https://localhost:8080/"
        },
        "id": "Q9lp8Egzcj7q",
        "outputId": "d86311de-6e15-43b2-e2c4-6c513b2cbda5"
      },
      "execution_count": 3,
      "outputs": [
        {
          "output_type": "stream",
          "name": "stderr",
          "text": [
            "Calculating Scores: 100%|██████████| 50/50 [00:02<00:00, 17.05it/s]"
          ]
        },
        {
          "output_type": "stream",
          "name": "stdout",
          "text": [
            "Average Overlap Score: 0.2863240577983916\n",
            "Average Coherence Score: 0.16516687088844434\n",
            "Average Informativeness Score: 0.280663342483949\n"
          ]
        },
        {
          "output_type": "stream",
          "name": "stderr",
          "text": [
            "\n"
          ]
        }
      ]
    },
    {
      "cell_type": "code",
      "source": [
        "#### Combined summary Rogue Score\n",
        "from rouge import Rouge\n",
        "import pandas as pd\n",
        "from tqdm import tqdm\n",
        "import torch\n",
        "import re\n",
        "\n",
        "# Load the DataFrame from the Excel file\n",
        "input_file = \"Combined_Google_patent_chunks_Summary_t5_small_score.xlsx\"\n",
        "df = pd.read_excel(input_file)\n",
        "\n",
        "# Create a Rouge object\n",
        "rouge = Rouge()\n",
        "\n",
        "# Define lists to store the overlap, coherence, and informativeness scores\n",
        "overlap_scores = []\n",
        "coherence_scores = []\n",
        "informativeness_scores = []\n",
        "\n",
        "# Set device to GPU if available\n",
        "device = torch.device(\"cuda\" if torch.cuda.is_available() else \"cpu\")\n",
        "\n",
        "# Iterate over the rows in the DataFrame with a progress bar\n",
        "for index, row in tqdm(df.iterrows(), total=len(df), desc=\"Calculating Scores\"):\n",
        "    # Get the original text and the generated summary\n",
        "    abstract = row['Abstract_chunks_Summary_t5_small']\n",
        "    claim = row['Claims_chunks_Summary_t5_small']\n",
        "\n",
        "    # Clean the abstract and claims text\n",
        "    abstract = re.sub(r'[^\\x00-\\x7F]+', '', str(abstract))\n",
        "    claims = re.sub(r'[^\\x00-\\x7F]+', '', str(claim))\n",
        "\n",
        "    # Combine the cleaned abstract and claims\n",
        "    original_text = abstract+' '+claims\n",
        "    generated_summary = str(row['Combined_Summary_chunks_t5_small'])\n",
        "\n",
        "    # Calculate ROUGE scores\n",
        "    scores = rouge.get_scores(generated_summary, original_text)\n",
        "\n",
        "    # Extract the relevant scores\n",
        "    overlap_score = scores[0]['rouge-1']['f']\n",
        "    coherence_score = scores[0]['rouge-2']['f']\n",
        "    informativeness_score = scores[0]['rouge-l']['f']\n",
        "\n",
        "    # Append the scores to the respective lists\n",
        "    overlap_scores.append(overlap_score)\n",
        "    coherence_scores.append(coherence_score)\n",
        "    informativeness_scores.append(informativeness_score)\n",
        "\n",
        "# Add the scores to the DataFrame\n",
        "df['Overlap_Score'] = overlap_scores\n",
        "df['Coherence_Score'] = coherence_scores\n",
        "df['Informativeness_Score'] = informativeness_scores\n",
        "\n",
        "# Save the updated DataFrame to a new Excel file\n",
        "output_file = \"Summary_Scores_hupd_Rouge_score_t5_small_Combined_Summary_Chunks.xlsx\"\n",
        "df.to_excel(output_file, index=False)\n",
        "\n",
        "# Print the average scores\n",
        "print(\"Average Overlap Score:\", sum(overlap_scores) / len(overlap_scores))\n",
        "print(\"Average Coherence Score:\", sum(coherence_scores) / len(coherence_scores))\n",
        "print(\"Average Informativeness Score:\", sum(informativeness_scores) / len(informativeness_scores))"
      ],
      "metadata": {
        "colab": {
          "base_uri": "https://localhost:8080/"
        },
        "id": "AV55ZNXPdQGl",
        "outputId": "8fbc4efb-95fc-4787-ea23-2415fb3d113b"
      },
      "execution_count": 4,
      "outputs": [
        {
          "output_type": "stream",
          "name": "stderr",
          "text": [
            "Calculating Scores: 100%|██████████| 50/50 [00:00<00:00, 1287.92it/s]"
          ]
        },
        {
          "output_type": "stream",
          "name": "stdout",
          "text": [
            "Average Overlap Score: 0.4518406890598394\n",
            "Average Coherence Score: 0.3500811829049737\n",
            "Average Informativeness Score: 0.4446407007092676\n"
          ]
        },
        {
          "output_type": "stream",
          "name": "stderr",
          "text": [
            "\n"
          ]
        }
      ]
    },
    {
      "cell_type": "code",
      "source": [
        "!pip install rouge"
      ],
      "metadata": {
        "colab": {
          "base_uri": "https://localhost:8080/"
        },
        "id": "MXuHNCWKcesl",
        "outputId": "2294d538-df35-42f3-8daa-55f99b77c729"
      },
      "execution_count": 1,
      "outputs": [
        {
          "output_type": "stream",
          "name": "stdout",
          "text": [
            "Looking in indexes: https://pypi.org/simple, https://us-python.pkg.dev/colab-wheels/public/simple/\n",
            "Collecting rouge\n",
            "  Downloading rouge-1.0.1-py3-none-any.whl (13 kB)\n",
            "Requirement already satisfied: six in /usr/local/lib/python3.10/dist-packages (from rouge) (1.16.0)\n",
            "Installing collected packages: rouge\n",
            "Successfully installed rouge-1.0.1\n"
          ]
        }
      ]
    }
  ]
}